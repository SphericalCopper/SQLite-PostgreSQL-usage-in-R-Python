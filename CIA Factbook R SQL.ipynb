{
 "cells": [
  {
   "cell_type": "markdown",
   "metadata": {},
   "source": [
    "# Analysis of CIA Factbook Data through SQLite and R\n",
    "\n",
    "The [CIA World Factbook](https://www.cia.gov/library/publications/the-world-factbook/) is a compendium of statistics about all the countries in the world, and contains information like:\n",
    "\n",
    "- `population` - Population as of 2015.\n",
    "- `population_growth` - The annual population growth rate, as a percentage.\n",
    "- `area` - Total Area including land and Water.\n",
    "\n",
    "\n",
    "\n",
    "The database file we'll be working with is `factbook.db`. We'll query this database and later perform visualization tasks to convert the information within the database into a form that makes it easier for us to learn about each country.\n",
    "\n",
    "\n",
    "First, we'll import the necessary libraries:"
   ]
  },
  {
   "cell_type": "code",
   "execution_count": 1,
   "metadata": {},
   "outputs": [
    {
     "name": "stderr",
     "output_type": "stream",
     "text": [
      "Warning message:\n",
      "\"package 'RSQLite' was built under R version 3.6.1\""
     ]
    }
   ],
   "source": [
    "library(RSQLite)\n",
    "library(DBI)"
   ]
  },
  {
   "cell_type": "markdown",
   "metadata": {},
   "source": [
    "Lets get connected with the database, and run a query that displays the first 5 rows of the `facts` dataframe stored within the `factbook.db` database file."
   ]
  },
  {
   "cell_type": "code",
   "execution_count": 2,
   "metadata": {},
   "outputs": [
    {
     "data": {
      "text/html": [
       "<table>\n",
       "<thead><tr><th scope=col>id</th><th scope=col>code</th><th scope=col>name</th><th scope=col>area</th><th scope=col>area_land</th><th scope=col>area_water</th><th scope=col>population</th><th scope=col>population_growth</th><th scope=col>birth_rate</th><th scope=col>death_rate</th><th scope=col>migration_rate</th><th scope=col>created_at</th><th scope=col>updated_at</th></tr></thead>\n",
       "<tbody>\n",
       "\t<tr><td>1                         </td><td>af                        </td><td>Afghanistan               </td><td> 652230                   </td><td> 652230                   </td><td>   0                      </td><td>32564342                  </td><td>2.32                      </td><td>38.57                     </td><td>13.89                     </td><td>1.51                      </td><td>2015-11-01 13:19:49.461734</td><td>2015-11-01 13:19:49.461734</td></tr>\n",
       "\t<tr><td>2                         </td><td>al                        </td><td>Albania                   </td><td>  28748                   </td><td>  27398                   </td><td>1350                      </td><td> 3029278                  </td><td>0.30                      </td><td>12.92                     </td><td> 6.58                     </td><td>3.30                      </td><td>2015-11-01 13:19:54.431082</td><td>2015-11-01 13:19:54.431082</td></tr>\n",
       "\t<tr><td>3                         </td><td>ag                        </td><td>Algeria                   </td><td>2381741                   </td><td>2381741                   </td><td>   0                      </td><td>39542166                  </td><td>1.84                      </td><td>23.67                     </td><td> 4.31                     </td><td>0.92                      </td><td>2015-11-01 13:19:59.961286</td><td>2015-11-01 13:19:59.961286</td></tr>\n",
       "\t<tr><td>4                         </td><td>an                        </td><td>Andorra                   </td><td>    468                   </td><td>    468                   </td><td>   0                      </td><td>   85580                  </td><td>0.12                      </td><td> 8.13                     </td><td> 6.96                     </td><td>0.00                      </td><td>2015-11-01 13:20:03.659945</td><td>2015-11-01 13:20:03.659945</td></tr>\n",
       "\t<tr><td>5                         </td><td>ao                        </td><td>Angola                    </td><td>1246700                   </td><td>1246700                   </td><td>   0                      </td><td>19625353                  </td><td>2.78                      </td><td>38.78                     </td><td>11.49                     </td><td>0.46                      </td><td>2015-11-01 13:20:08.625072</td><td>2015-11-01 13:20:08.625072</td></tr>\n",
       "</tbody>\n",
       "</table>\n"
      ],
      "text/latex": [
       "\\begin{tabular}{r|lllllllllllll}\n",
       " id & code & name & area & area\\_land & area\\_water & population & population\\_growth & birth\\_rate & death\\_rate & migration\\_rate & created\\_at & updated\\_at\\\\\n",
       "\\hline\n",
       "\t 1                          & af                         & Afghanistan                &  652230                    &  652230                    &    0                       & 32564342                   & 2.32                       & 38.57                      & 13.89                      & 1.51                       & 2015-11-01 13:19:49.461734 & 2015-11-01 13:19:49.461734\\\\\n",
       "\t 2                          & al                         & Albania                    &   28748                    &   27398                    & 1350                       &  3029278                   & 0.30                       & 12.92                      &  6.58                      & 3.30                       & 2015-11-01 13:19:54.431082 & 2015-11-01 13:19:54.431082\\\\\n",
       "\t 3                          & ag                         & Algeria                    & 2381741                    & 2381741                    &    0                       & 39542166                   & 1.84                       & 23.67                      &  4.31                      & 0.92                       & 2015-11-01 13:19:59.961286 & 2015-11-01 13:19:59.961286\\\\\n",
       "\t 4                          & an                         & Andorra                    &     468                    &     468                    &    0                       &    85580                   & 0.12                       &  8.13                      &  6.96                      & 0.00                       & 2015-11-01 13:20:03.659945 & 2015-11-01 13:20:03.659945\\\\\n",
       "\t 5                          & ao                         & Angola                     & 1246700                    & 1246700                    &    0                       & 19625353                   & 2.78                       & 38.78                      & 11.49                      & 0.46                       & 2015-11-01 13:20:08.625072 & 2015-11-01 13:20:08.625072\\\\\n",
       "\\end{tabular}\n"
      ],
      "text/markdown": [
       "\n",
       "| id | code | name | area | area_land | area_water | population | population_growth | birth_rate | death_rate | migration_rate | created_at | updated_at |\n",
       "|---|---|---|---|---|---|---|---|---|---|---|---|---|\n",
       "| 1                          | af                         | Afghanistan                |  652230                    |  652230                    |    0                       | 32564342                   | 2.32                       | 38.57                      | 13.89                      | 1.51                       | 2015-11-01 13:19:49.461734 | 2015-11-01 13:19:49.461734 |\n",
       "| 2                          | al                         | Albania                    |   28748                    |   27398                    | 1350                       |  3029278                   | 0.30                       | 12.92                      |  6.58                      | 3.30                       | 2015-11-01 13:19:54.431082 | 2015-11-01 13:19:54.431082 |\n",
       "| 3                          | ag                         | Algeria                    | 2381741                    | 2381741                    |    0                       | 39542166                   | 1.84                       | 23.67                      |  4.31                      | 0.92                       | 2015-11-01 13:19:59.961286 | 2015-11-01 13:19:59.961286 |\n",
       "| 4                          | an                         | Andorra                    |     468                    |     468                    |    0                       |    85580                   | 0.12                       |  8.13                      |  6.96                      | 0.00                       | 2015-11-01 13:20:03.659945 | 2015-11-01 13:20:03.659945 |\n",
       "| 5                          | ao                         | Angola                     | 1246700                    | 1246700                    |    0                       | 19625353                   | 2.78                       | 38.78                      | 11.49                      | 0.46                       | 2015-11-01 13:20:08.625072 | 2015-11-01 13:20:08.625072 |\n",
       "\n"
      ],
      "text/plain": [
       "  id code name        area    area_land area_water population population_growth\n",
       "1 1  af   Afghanistan  652230  652230      0       32564342   2.32             \n",
       "2 2  al   Albania       28748   27398   1350        3029278   0.30             \n",
       "3 3  ag   Algeria     2381741 2381741      0       39542166   1.84             \n",
       "4 4  an   Andorra         468     468      0          85580   0.12             \n",
       "5 5  ao   Angola      1246700 1246700      0       19625353   2.78             \n",
       "  birth_rate death_rate migration_rate created_at                \n",
       "1 38.57      13.89      1.51           2015-11-01 13:19:49.461734\n",
       "2 12.92       6.58      3.30           2015-11-01 13:19:54.431082\n",
       "3 23.67       4.31      0.92           2015-11-01 13:19:59.961286\n",
       "4  8.13       6.96      0.00           2015-11-01 13:20:03.659945\n",
       "5 38.78      11.49      0.46           2015-11-01 13:20:08.625072\n",
       "  updated_at                \n",
       "1 2015-11-01 13:19:49.461734\n",
       "2 2015-11-01 13:19:54.431082\n",
       "3 2015-11-01 13:19:59.961286\n",
       "4 2015-11-01 13:20:03.659945\n",
       "5 2015-11-01 13:20:08.625072"
      ]
     },
     "metadata": {},
     "output_type": "display_data"
    }
   ],
   "source": [
    "conn <- dbConnect(SQLite(), \"factbook.db\")\n",
    "\n",
    "query <- \"SELECT * FROM facts LIMIT 5\"\n",
    "\n",
    "result <- dbSendQuery(conn, query)\n",
    "\n",
    "first_5 <- dbFetch(result)\n",
    "\n",
    "first_5"
   ]
  },
  {
   "cell_type": "markdown",
   "metadata": {},
   "source": [
    "The descriptions of some of the columns are as follows:\n",
    "\n",
    "- name - The name of the country.\n",
    "- area - The total land and sea area of the country (represented by the area_land and area_water columns).\n",
    "- area_land - The country's land area in square kilometers.\n",
    "- area_water - The country's waterarea in square kilometers.\n",
    "- population - The country's population as of 2015\n",
    "- population_growth - The country's population growth as a percentage.\n",
    "- birth_rate - The country's birth rate, or the number of births a year per 1,000 people.\n",
    "- death_rate - The country's death rate, or the number of death a year per 1,000 people.\n",
    "\n"
   ]
  },
  {
   "cell_type": "markdown",
   "metadata": {},
   "source": [
    "## Calculating Summary Statistics\n",
    "\n",
    "To start with, we'll begin calculating some summary statistics, and checking for outlier countries in the process. In particluar, we'll check the following things using a query: \n",
    "\n",
    "- minimum population\n",
    "- maximum population\n",
    "- minimum population growth\n",
    "- maximum population growth"
   ]
  },
  {
   "cell_type": "code",
   "execution_count": 3,
   "metadata": {},
   "outputs": [
    {
     "name": "stderr",
     "output_type": "stream",
     "text": [
      "Warning message:\n",
      "\"Closing open result set, pending rows\""
     ]
    },
    {
     "data": {
      "text/html": [
       "<table>\n",
       "<thead><tr><th scope=col>MIN(population)</th><th scope=col>MAX(population)</th><th scope=col>MIN(population_growth)</th><th scope=col>MAX(population_growth)</th></tr></thead>\n",
       "<tbody>\n",
       "\t<tr><td>0         </td><td>7256490011</td><td>0         </td><td>4.02      </td></tr>\n",
       "</tbody>\n",
       "</table>\n"
      ],
      "text/latex": [
       "\\begin{tabular}{r|llll}\n",
       " MIN(population) & MAX(population) & MIN(population\\_growth) & MAX(population\\_growth)\\\\\n",
       "\\hline\n",
       "\t 0          & 7256490011 & 0          & 4.02      \\\\\n",
       "\\end{tabular}\n"
      ],
      "text/markdown": [
       "\n",
       "| MIN(population) | MAX(population) | MIN(population_growth) | MAX(population_growth) |\n",
       "|---|---|---|---|\n",
       "| 0          | 7256490011 | 0          | 4.02       |\n",
       "\n"
      ],
      "text/plain": [
       "  MIN(population) MAX(population) MIN(population_growth) MAX(population_growth)\n",
       "1 0               7256490011      0                      4.02                  "
      ]
     },
     "metadata": {},
     "output_type": "display_data"
    }
   ],
   "source": [
    "query2 <- \"SELECT MIN(population), MAX(population), MIN(population_growth), MAX(population_growth) FROM facts\"\n",
    "\n",
    "result2 <- dbGetQuery(conn, query2)\n",
    "\n",
    "result2"
   ]
  },
  {
   "cell_type": "markdown",
   "metadata": {},
   "source": [
    "Right away, we notice some extremely strange things: \n",
    "\n",
    "1) There's a country with a population of 0.\n",
    "\n",
    "2) There's a country with a population of 7,256,490,011. No single country in 2015 had a population anywhere remotely close to 7 billion!\n",
    "\n",
    "Let's see what these countries are. "
   ]
  },
  {
   "cell_type": "code",
   "execution_count": 4,
   "metadata": {},
   "outputs": [
    {
     "data": {
      "text/html": [
       "<table>\n",
       "<thead><tr><th scope=col>name</th><th scope=col>population</th></tr></thead>\n",
       "<tbody>\n",
       "\t<tr><td>Antarctica</td><td>         0</td></tr>\n",
       "\t<tr><td>World     </td><td>7256490011</td></tr>\n",
       "</tbody>\n",
       "</table>\n"
      ],
      "text/latex": [
       "\\begin{tabular}{r|ll}\n",
       " name & population\\\\\n",
       "\\hline\n",
       "\t Antarctica &          0\\\\\n",
       "\t World      & 7256490011\\\\\n",
       "\\end{tabular}\n"
      ],
      "text/markdown": [
       "\n",
       "| name | population |\n",
       "|---|---|\n",
       "| Antarctica |          0 |\n",
       "| World      | 7256490011 |\n",
       "\n"
      ],
      "text/plain": [
       "  name       population\n",
       "1 Antarctica          0\n",
       "2 World      7256490011"
      ]
     },
     "metadata": {},
     "output_type": "display_data"
    }
   ],
   "source": [
    "query3 <- \"SELECT name, population FROM facts WHERE population in ((SELECT MIN(population) FROM facts), (SELECT MAX(population) FROM facts))\"\n",
    "\n",
    "result3 <- dbGetQuery(conn, query3)\n",
    "\n",
    "result3"
   ]
  },
  {
   "cell_type": "markdown",
   "metadata": {},
   "source": [
    "## Removing Outliers\n",
    "\n",
    "We see now that the `facts` dataframe includes Antarctica, and the entire World's population together. This explains the extreme numbers we saw.\n",
    "\n",
    "Since these outlier rows will skew any visualization we attempt to perform on the dataset, they should be excluded in a revised query."
   ]
  },
  {
   "cell_type": "code",
   "execution_count": 5,
   "metadata": {},
   "outputs": [
    {
     "data": {
      "text/html": [
       "<table>\n",
       "<thead><tr><th scope=col>id</th><th scope=col>code</th><th scope=col>name</th><th scope=col>area</th><th scope=col>area_land</th><th scope=col>area_water</th><th scope=col>population</th><th scope=col>population_growth</th><th scope=col>birth_rate</th><th scope=col>death_rate</th><th scope=col>migration_rate</th><th scope=col>created_at</th><th scope=col>updated_at</th></tr></thead>\n",
       "<tbody>\n",
       "\t<tr><td> 1                        </td><td>af                        </td><td>Afghanistan               </td><td> 652230                   </td><td> 652230                   </td><td>     0                    </td><td> 32564342                 </td><td>2.32                      </td><td>38.57                     </td><td>13.89                     </td><td> 1.51                     </td><td>2015-11-01 13:19:49.461734</td><td>2015-11-01 13:19:49.461734</td></tr>\n",
       "\t<tr><td> 2                        </td><td>al                        </td><td>Albania                   </td><td>  28748                   </td><td>  27398                   </td><td>  1350                    </td><td>  3029278                 </td><td>0.30                      </td><td>12.92                     </td><td> 6.58                     </td><td> 3.30                     </td><td>2015-11-01 13:19:54.431082</td><td>2015-11-01 13:19:54.431082</td></tr>\n",
       "\t<tr><td> 3                        </td><td>ag                        </td><td>Algeria                   </td><td>2381741                   </td><td>2381741                   </td><td>     0                    </td><td> 39542166                 </td><td>1.84                      </td><td>23.67                     </td><td> 4.31                     </td><td> 0.92                     </td><td>2015-11-01 13:19:59.961286</td><td>2015-11-01 13:19:59.961286</td></tr>\n",
       "\t<tr><td> 4                        </td><td>an                        </td><td>Andorra                   </td><td>    468                   </td><td>    468                   </td><td>     0                    </td><td>    85580                 </td><td>0.12                      </td><td> 8.13                     </td><td> 6.96                     </td><td> 0.00                     </td><td>2015-11-01 13:20:03.659945</td><td>2015-11-01 13:20:03.659945</td></tr>\n",
       "\t<tr><td> 5                        </td><td>ao                        </td><td>Angola                    </td><td>1246700                   </td><td>1246700                   </td><td>     0                    </td><td> 19625353                 </td><td>2.78                      </td><td>38.78                     </td><td>11.49                     </td><td> 0.46                     </td><td>2015-11-01 13:20:08.625072</td><td>2015-11-01 13:20:08.625072</td></tr>\n",
       "\t<tr><td> 6                        </td><td>ac                        </td><td>Antigua and Barbuda       </td><td>    442                   </td><td>    442                   </td><td>     0                    </td><td>    92436                 </td><td>1.24                      </td><td>15.85                     </td><td> 5.69                     </td><td> 2.21                     </td><td>2015-11-01 13:20:13.049627</td><td>2015-11-01 13:20:13.049627</td></tr>\n",
       "\t<tr><td> 7                        </td><td>ar                        </td><td>Argentina                 </td><td>2780400                   </td><td>2736690                   </td><td> 43710                    </td><td> 43431886                 </td><td>0.93                      </td><td>16.64                     </td><td> 7.33                     </td><td> 0.00                     </td><td>2015-11-01 13:20:18.233063</td><td>2015-11-01 13:20:18.233063</td></tr>\n",
       "\t<tr><td> 8                        </td><td>am                        </td><td>Armenia                   </td><td>  29743                   </td><td>  28203                   </td><td>  1540                    </td><td>  3056382                 </td><td>0.15                      </td><td>13.61                     </td><td> 9.34                     </td><td> 5.80                     </td><td>2015-11-01 13:20:23.048753</td><td>2015-11-01 13:20:23.048753</td></tr>\n",
       "\t<tr><td> 9                        </td><td>as                        </td><td>Australia                 </td><td>7741220                   </td><td>7682300                   </td><td> 58920                    </td><td> 22751014                 </td><td>1.07                      </td><td>12.15                     </td><td> 7.14                     </td><td> 5.65                     </td><td>2015-11-01 13:20:28.186341</td><td>2015-11-01 13:20:28.186341</td></tr>\n",
       "\t<tr><td>10                        </td><td>au                        </td><td>Austria                   </td><td>  83871                   </td><td>  82445                   </td><td>  1426                    </td><td>  8665550                 </td><td>0.55                      </td><td> 9.41                     </td><td> 9.42                     </td><td> 5.56                     </td><td>2015-11-01 13:20:33.093597</td><td>2015-11-01 13:20:33.093597</td></tr>\n",
       "\t<tr><td>11                        </td><td>aj                        </td><td>Azerbaijan                </td><td>  86600                   </td><td>  82629                   </td><td>  3971                    </td><td>  9780780                 </td><td>0.96                      </td><td>16.64                     </td><td> 7.07                     </td><td> 0.00                     </td><td>2015-11-01 13:20:38.210262</td><td>2015-11-01 13:20:38.210262</td></tr>\n",
       "\t<tr><td>12                        </td><td>bf                        </td><td>Bahamas, The              </td><td>  13880                   </td><td>  10010                   </td><td>  3870                    </td><td>   324597                 </td><td>0.85                      </td><td>15.50                     </td><td> 7.05                     </td><td> 0.00                     </td><td>2015-11-01 13:20:42.754219</td><td>2015-11-01 13:20:42.754219</td></tr>\n",
       "\t<tr><td>13                        </td><td>ba                        </td><td>Bahrain                   </td><td>    760                   </td><td>    760                   </td><td>     0                    </td><td>  1346613                 </td><td>2.41                      </td><td>13.66                     </td><td> 2.69                     </td><td>13.09                     </td><td>2015-11-01 13:20:47.686896</td><td>2015-11-01 13:20:47.686896</td></tr>\n",
       "\t<tr><td>14                        </td><td>bg                        </td><td>Bangladesh                </td><td> 148460                   </td><td> 130170                   </td><td> 18290                    </td><td>168957745                 </td><td>1.60                      </td><td>21.14                     </td><td> 5.61                     </td><td> 0.46                     </td><td>2015-11-01 13:20:52.753843</td><td>2015-11-01 13:20:52.753843</td></tr>\n",
       "\t<tr><td>15                        </td><td>bb                        </td><td>Barbados                  </td><td>    430                   </td><td>    430                   </td><td>     0                    </td><td>   290604                 </td><td>0.31                      </td><td>11.87                     </td><td> 8.44                     </td><td> 0.30                     </td><td>2015-11-01 13:20:57.219984</td><td>2015-11-01 13:20:57.219984</td></tr>\n",
       "\t<tr><td>16                        </td><td>bo                        </td><td>Belarus                   </td><td> 207600                   </td><td> 202900                   </td><td>  4700                    </td><td>  9589689                 </td><td>0.20                      </td><td>10.70                     </td><td>13.36                     </td><td> 0.70                     </td><td>2015-11-01 13:21:02.382438</td><td>2015-11-01 13:21:02.382438</td></tr>\n",
       "\t<tr><td>17                        </td><td>be                        </td><td>Belgium                   </td><td>  30528                   </td><td>  30278                   </td><td>   250                    </td><td> 11323973                 </td><td>0.76                      </td><td>11.41                     </td><td> 9.63                     </td><td> 5.87                     </td><td>2015-11-01 13:21:07.317024</td><td>2015-11-01 13:21:07.317024</td></tr>\n",
       "\t<tr><td>18                        </td><td>bh                        </td><td>Belize                    </td><td>  22966                   </td><td>  22806                   </td><td>   160                    </td><td>   347369                 </td><td>1.87                      </td><td>24.68                     </td><td> 5.97                     </td><td> 0.00                     </td><td>2015-11-01 13:21:12.255851</td><td>2015-11-01 13:21:12.255851</td></tr>\n",
       "\t<tr><td>19                        </td><td>bn                        </td><td>Benin                     </td><td> 112622                   </td><td> 110622                   </td><td>  2000                    </td><td> 10448647                 </td><td>2.78                      </td><td>36.02                     </td><td> 8.21                     </td><td> 0.00                     </td><td>2015-11-01 13:21:17.437291</td><td>2015-11-01 13:21:17.437291</td></tr>\n",
       "\t<tr><td>20                        </td><td>bt                        </td><td>Bhutan                    </td><td>  38394                   </td><td>  38394                   </td><td>     0                    </td><td>   741919                 </td><td>1.11                      </td><td>17.78                     </td><td> 6.69                     </td><td> 0.00                     </td><td>2015-11-01 13:21:21.942736</td><td>2015-11-01 13:21:21.942736</td></tr>\n",
       "\t<tr><td>21                        </td><td>bl                        </td><td>Bolivia                   </td><td>1098581                   </td><td>1083301                   </td><td> 15280                    </td><td> 10800882                 </td><td>1.56                      </td><td>22.76                     </td><td> 6.52                     </td><td> 0.62                     </td><td>2015-11-01 13:21:27.041970</td><td>2015-11-01 13:21:27.041970</td></tr>\n",
       "\t<tr><td>22                        </td><td>bk                        </td><td>Bosnia and Herzegovina    </td><td>  51197                   </td><td>  51187                   </td><td>    10                    </td><td>  3867055                 </td><td>0.13                      </td><td> 8.87                     </td><td> 9.75                     </td><td> 0.38                     </td><td>2015-11-01 13:21:32.191346</td><td>2015-11-01 13:21:32.191346</td></tr>\n",
       "\t<tr><td>23                        </td><td>bc                        </td><td>Botswana                  </td><td> 581730                   </td><td> 566730                   </td><td> 15000                    </td><td>  2182719                 </td><td>1.21                      </td><td>20.96                     </td><td>13.39                     </td><td> 4.56                     </td><td>2015-11-01 13:21:36.883097</td><td>2015-11-01 13:21:36.883097</td></tr>\n",
       "\t<tr><td>24                        </td><td>br                        </td><td>Brazil                    </td><td>8515770                   </td><td>8358140                   </td><td>157630                    </td><td>204259812                 </td><td>0.77                      </td><td>14.46                     </td><td> 6.58                     </td><td> 0.14                     </td><td>2015-11-01 13:21:42.799461</td><td>2015-11-01 13:21:42.799461</td></tr>\n",
       "\t<tr><td>25                        </td><td>bx                        </td><td>Brunei                    </td><td>   5765                   </td><td>   5265                   </td><td>   500                    </td><td>   429646                 </td><td>1.62                      </td><td>17.32                     </td><td> 3.52                     </td><td> 2.43                     </td><td>2015-11-01 13:21:47.136638</td><td>2015-11-01 13:21:47.136638</td></tr>\n",
       "\t<tr><td>26                        </td><td>bu                        </td><td>Bulgaria                  </td><td> 110879                   </td><td> 108489                   </td><td>  2390                    </td><td>  7186893                 </td><td>0.58                      </td><td> 8.92                     </td><td>14.44                     </td><td> 0.29                     </td><td>2015-11-01 13:21:52.018824</td><td>2015-11-01 13:21:52.018824</td></tr>\n",
       "\t<tr><td>27                        </td><td>uv                        </td><td>Burkina Faso              </td><td> 274200                   </td><td> 273800                   </td><td>   400                    </td><td> 18931686                 </td><td>3.03                      </td><td>42.03                     </td><td>11.72                     </td><td> 0.00                     </td><td>2015-11-01 13:21:56.976083</td><td>2015-11-01 13:21:56.976083</td></tr>\n",
       "\t<tr><td>28                        </td><td>bm                        </td><td>Burma                     </td><td> 676578                   </td><td> 653508                   </td><td> 23070                    </td><td> 56320206                 </td><td>1.01                      </td><td>18.39                     </td><td> 7.96                     </td><td> 0.28                     </td><td>2015-11-01 13:22:03.329538</td><td>2015-11-01 13:22:03.329538</td></tr>\n",
       "\t<tr><td>29                        </td><td>by                        </td><td>Burundi                   </td><td>  27830                   </td><td>  25680                   </td><td>  2150                    </td><td> 10742276                 </td><td>3.28                      </td><td>42.01                     </td><td> 9.27                     </td><td> 0.00                     </td><td>2015-11-01 13:22:08.382756</td><td>2015-11-01 13:22:08.382756</td></tr>\n",
       "\t<tr><td>30                        </td><td>cb                        </td><td>Cambodia                  </td><td> 181035                   </td><td> 176515                   </td><td>  4520                    </td><td> 15708756                 </td><td>1.58                      </td><td>23.83                     </td><td> 7.68                     </td><td> 0.32                     </td><td>2015-11-01 13:22:16.286410</td><td>2015-11-01 13:22:16.286410</td></tr>\n",
       "\t<tr><td>...</td><td>...</td><td>...</td><td>...</td><td>...</td><td>...</td><td>...</td><td>...</td><td>...</td><td>...</td><td>...</td><td>...</td><td>...</td></tr>\n",
       "\t<tr><td>216                                          </td><td>aa                                           </td><td>Aruba                                        </td><td>   180                                       </td><td>   180                                       </td><td>   0                                         </td><td> 112162                                      </td><td>1.33                                         </td><td>12.56                                        </td><td> 8.18                                        </td><td> 8.92                                        </td><td>2015-11-01 13:37:02.407642                   </td><td>2015-11-01 13:37:02.407642                   </td></tr>\n",
       "\t<tr><td>217                                          </td><td>cc                                           </td><td>Curacao                                      </td><td>   444                                       </td><td>   444                                       </td><td>   0                                         </td><td> 148406                                      </td><td>0.43                                         </td><td>13.80                                        </td><td> 8.20                                        </td><td> 1.40                                        </td><td>2015-11-01 13:37:05.782750                   </td><td>2015-11-01 13:37:05.782750                   </td></tr>\n",
       "\t<tr><td>218                                          </td><td>sk                                           </td><td>Sint Maarten                                 </td><td>    34                                       </td><td>    34                                       </td><td>   0                                         </td><td>  39689                                      </td><td>1.51                                         </td><td>13.00                                        </td><td> 4.51                                        </td><td> 6.63                                        </td><td>2015-11-01 13:37:08.571949                   </td><td>2015-11-01 13:37:08.571949                   </td></tr>\n",
       "\t<tr><td>219                                          </td><td>cw                                           </td><td>Cook Islands                                 </td><td>   236                                       </td><td>   236                                       </td><td>   0                                         </td><td>   9838                                      </td><td>2.95                                         </td><td>14.33                                        </td><td> 8.03                                        </td><td>   NA                                        </td><td>2015-11-01 13:37:12.581604                   </td><td>2015-11-01 13:37:12.581604                   </td></tr>\n",
       "\t<tr><td>220                                          </td><td>ne                                           </td><td>Niue                                         </td><td>   260                                       </td><td>   260                                       </td><td>   0                                         </td><td>   1190                                      </td><td>0.03                                         </td><td>   NA                                        </td><td>   NA                                        </td><td>   NA                                        </td><td>2015-11-01 13:37:15.982898                   </td><td>2015-11-01 13:37:15.982898                   </td></tr>\n",
       "\t<tr><td>221                                          </td><td>tl                                           </td><td>Tokelau                                      </td><td>    12                                       </td><td>    12                                       </td><td>   0                                         </td><td>   1337                                      </td><td>0.01                                         </td><td>   NA                                        </td><td>   NA                                        </td><td>   NA                                        </td><td>2015-11-01 13:37:18.544305                   </td><td>2015-11-01 13:37:18.544305                   </td></tr>\n",
       "\t<tr><td>224                                          </td><td>sv                                           </td><td>Svalbard                                     </td><td> 62045                                       </td><td> 62045                                       </td><td>   0                                         </td><td>   1872                                      </td><td>0.03                                         </td><td>   NA                                        </td><td>   NA                                        </td><td>   NA                                        </td><td>2015-11-01 13:37:24.335698                   </td><td>2015-11-01 13:37:24.335698                   </td></tr>\n",
       "\t<tr><td>225                                          </td><td>ax                                           </td><td>Akrotiri                                     </td><td>   123                                       </td><td>    NA                                       </td><td>  NA                                         </td><td>  15700                                      </td><td>  NA                                         </td><td>   NA                                        </td><td>   NA                                        </td><td>   NA                                        </td><td>2015-11-01 13:37:26.504715                   </td><td>2015-11-01 13:37:26.504715                   </td></tr>\n",
       "\t<tr><td>226                                          </td><td>av                                           </td><td>Anguilla                                     </td><td>    91                                       </td><td>    91                                       </td><td>   0                                         </td><td>  16418                                      </td><td>2.03                                         </td><td>12.67                                        </td><td> 4.57                                        </td><td>12.18                                        </td><td>2015-11-01 13:37:30.034876                   </td><td>2015-11-01 13:37:30.034876                   </td></tr>\n",
       "\t<tr><td>227                                          </td><td>bd                                           </td><td>Bermuda                                      </td><td>    54                                       </td><td>    54                                       </td><td>   0                                         </td><td>  70196                                      </td><td>0.50                                         </td><td>11.33                                        </td><td> 8.23                                        </td><td> 1.88                                        </td><td>2015-11-01 13:37:33.894038                   </td><td>2015-11-01 13:37:33.894038                   </td></tr>\n",
       "\t<tr><td>229                                          </td><td>vi                                           </td><td>British Virgin Islands                       </td><td>   151                                       </td><td>   151                                       </td><td>   0                                         </td><td>  33454                                      </td><td>2.32                                         </td><td>10.91                                        </td><td> 4.99                                        </td><td>17.28                                        </td><td>2015-11-01 13:37:39.647840                   </td><td>2015-11-01 13:37:39.647840                   </td></tr>\n",
       "\t<tr><td>230                                          </td><td>cj                                           </td><td>Cayman Islands                               </td><td>   264                                       </td><td>   264                                       </td><td>   0                                         </td><td>  56092                                      </td><td>2.10                                         </td><td>12.11                                        </td><td> 5.53                                        </td><td>14.40                                        </td><td>2015-11-01 13:37:43.647884                   </td><td>2015-11-01 13:37:43.647884                   </td></tr>\n",
       "\t<tr><td>231                                          </td><td>dx                                           </td><td>Dhekelia                                     </td><td>   130                                       </td><td>    NA                                       </td><td>  NA                                         </td><td>  15700                                      </td><td>  NA                                         </td><td>   NA                                        </td><td>   NA                                        </td><td>   NA                                        </td><td>2015-11-01 13:37:45.262682                   </td><td>2015-11-01 13:37:45.262682                   </td></tr>\n",
       "\t<tr><td>232                                          </td><td>fk                                           </td><td>Falkland Islands (Islas Malvinas)            </td><td> 12173                                       </td><td> 12173                                       </td><td>   0                                         </td><td>   3361                                      </td><td>0.01                                         </td><td>10.90                                        </td><td> 4.90                                        </td><td>   NA                                        </td><td>2015-11-01 13:37:48.466688                   </td><td>2015-11-01 13:37:48.466688                   </td></tr>\n",
       "\t<tr><td>233                                          </td><td>gi                                           </td><td>Gibraltar                                    </td><td>     6                                       </td><td>     6                                       </td><td>   0                                         </td><td>  29258                                      </td><td>0.24                                         </td><td>14.08                                        </td><td> 8.37                                        </td><td> 3.28                                        </td><td>2015-11-01 13:37:51.980087                   </td><td>2015-11-01 13:37:51.980087                   </td></tr>\n",
       "\t<tr><td>234                                          </td><td>gk                                           </td><td>Guernsey                                     </td><td>    78                                       </td><td>    78                                       </td><td>   0                                         </td><td>  66080                                      </td><td>0.34                                         </td><td> 9.84                                        </td><td> 8.78                                        </td><td> 2.32                                        </td><td>2015-11-01 13:37:55.085750                   </td><td>2015-11-01 13:37:55.085750                   </td></tr>\n",
       "\t<tr><td>235                                          </td><td>je                                           </td><td>Jersey                                       </td><td>   116                                       </td><td>   116                                       </td><td>   0                                         </td><td>  97294                                      </td><td>0.80                                         </td><td>11.91                                        </td><td> 7.68                                        </td><td> 3.76                                        </td><td>2015-11-01 13:37:58.442238                   </td><td>2015-11-01 13:37:58.442238                   </td></tr>\n",
       "\t<tr><td>236                                          </td><td>im                                           </td><td>Isle of Man                                  </td><td>   572                                       </td><td>   572                                       </td><td>   0                                         </td><td>  87545                                      </td><td>0.76                                         </td><td>11.10                                        </td><td>10.06                                        </td><td> 6.56                                        </td><td>2015-11-01 13:38:01.914270                   </td><td>2015-11-01 13:38:01.914270                   </td></tr>\n",
       "\t<tr><td>237                                          </td><td>mh                                           </td><td>Montserrat                                   </td><td>   102                                       </td><td>   102                                       </td><td>   0                                         </td><td>   5241                                      </td><td>0.50                                         </td><td>11.26                                        </td><td> 6.30                                        </td><td> 0.00                                        </td><td>2015-11-01 13:38:05.670256                   </td><td>2015-11-01 13:38:05.670256                   </td></tr>\n",
       "\t<tr><td>238                                          </td><td>pc                                           </td><td>Pitcairn Islands                             </td><td>    47                                       </td><td>    47                                       </td><td>   0                                         </td><td>     48                                      </td><td>0.00                                         </td><td>   NA                                        </td><td>   NA                                        </td><td>   NA                                        </td><td>2015-11-01 13:38:08.047849                   </td><td>2015-11-01 13:38:08.047849                   </td></tr>\n",
       "\t<tr><td>239                                          </td><td>sh                                           </td><td>Saint Helena, Ascension, and Tristan da Cunha</td><td>   308                                       </td><td>   122                                       </td><td>   0                                         </td><td>   7795                                      </td><td>0.24                                         </td><td> 9.88                                        </td><td> 7.44                                        </td><td> 0.00                                        </td><td>2015-11-01 13:38:11.767274                   </td><td>2015-11-01 13:38:11.767274                   </td></tr>\n",
       "\t<tr><td>241                                          </td><td>tk                                           </td><td>Turks and Caicos Islands                     </td><td>   948                                       </td><td>   948                                       </td><td>   0                                         </td><td>  50280                                      </td><td>2.30                                         </td><td>16.13                                        </td><td> 3.10                                        </td><td> 9.94                                        </td><td>2015-11-01 13:38:17.164473                   </td><td>2015-11-01 13:38:17.164473                   </td></tr>\n",
       "\t<tr><td>242                                          </td><td>aq                                           </td><td>American Samoa                               </td><td>   199                                       </td><td>   199                                       </td><td>   0                                         </td><td>  54343                                      </td><td>0.30                                         </td><td>22.89                                        </td><td> 4.75                                        </td><td>21.13                                        </td><td>2015-11-01 13:38:20.926072                   </td><td>2015-11-01 13:38:20.926072                   </td></tr>\n",
       "\t<tr><td>243                                          </td><td>gq                                           </td><td>Guam                                         </td><td>   544                                       </td><td>   544                                       </td><td>   0                                         </td><td> 161785                                      </td><td>0.54                                         </td><td>16.82                                        </td><td> 5.12                                        </td><td> 6.34                                        </td><td>2015-11-01 13:38:24.699655                   </td><td>2015-11-01 13:38:24.699655                   </td></tr>\n",
       "\t<tr><td>245                                          </td><td>cq                                           </td><td>Northern Mariana Islands                     </td><td>   464                                       </td><td>   464                                       </td><td>   0                                         </td><td>  52344                                      </td><td>2.18                                         </td><td>18.32                                        </td><td> 3.71                                        </td><td> 7.16                                        </td><td>2015-11-01 13:38:30.017480                   </td><td>2015-11-01 13:38:30.017480                   </td></tr>\n",
       "\t<tr><td>246                                          </td><td>rq                                           </td><td>Puerto Rico                                  </td><td> 13791                                       </td><td>  8870                                       </td><td>4921                                         </td><td>3598357                                      </td><td>0.60                                         </td><td>10.86                                        </td><td> 8.67                                        </td><td> 8.15                                        </td><td>2015-11-01 13:38:34.502065                   </td><td>2015-11-01 13:38:34.502065                   </td></tr>\n",
       "\t<tr><td>247                                          </td><td>vq                                           </td><td>Virgin Islands                               </td><td>  1910                                       </td><td>   346                                       </td><td>1564                                         </td><td> 103574                                      </td><td>0.59                                         </td><td>10.31                                        </td><td> 8.54                                        </td><td> 7.67                                        </td><td>2015-11-01 13:38:38.270075                   </td><td>2015-11-01 13:38:38.270075                   </td></tr>\n",
       "\t<tr><td>251                                          </td><td>gz                                           </td><td>Gaza Strip                                   </td><td>   360                                       </td><td>   360                                       </td><td>   0                                         </td><td>1869055                                      </td><td>2.81                                         </td><td>31.11                                        </td><td> 3.04                                        </td><td> 0.00                                        </td><td>2015-11-01 13:38:48.049460                   </td><td>2015-11-01 13:38:48.049460                   </td></tr>\n",
       "\t<tr><td>254                                          </td><td>we                                           </td><td>West Bank                                    </td><td>  5860                                       </td><td>  5640                                       </td><td> 220                                         </td><td>2785366                                      </td><td>1.95                                         </td><td>22.99                                        </td><td> 3.50                                        </td><td> 0.00                                        </td><td>2015-11-01 13:38:55.084643                   </td><td>2015-11-01 13:38:55.084643                   </td></tr>\n",
       "\t<tr><td>255                                          </td><td>wi                                           </td><td>Western Sahara                               </td><td>266000                                       </td><td>266000                                       </td><td>   0                                         </td><td> 570866                                      </td><td>2.82                                         </td><td>30.24                                        </td><td> 8.34                                        </td><td>   NA                                        </td><td>2015-11-01 13:38:58.291161                   </td><td>2015-11-01 13:38:58.291161                   </td></tr>\n",
       "</tbody>\n",
       "</table>\n"
      ],
      "text/latex": [
       "\\begin{tabular}{r|lllllllllllll}\n",
       " id & code & name & area & area\\_land & area\\_water & population & population\\_growth & birth\\_rate & death\\_rate & migration\\_rate & created\\_at & updated\\_at\\\\\n",
       "\\hline\n",
       "\t  1                         & af                         & Afghanistan                &  652230                    &  652230                    &      0                     &  32564342                  & 2.32                       & 38.57                      & 13.89                      &  1.51                      & 2015-11-01 13:19:49.461734 & 2015-11-01 13:19:49.461734\\\\\n",
       "\t  2                         & al                         & Albania                    &   28748                    &   27398                    &   1350                     &   3029278                  & 0.30                       & 12.92                      &  6.58                      &  3.30                      & 2015-11-01 13:19:54.431082 & 2015-11-01 13:19:54.431082\\\\\n",
       "\t  3                         & ag                         & Algeria                    & 2381741                    & 2381741                    &      0                     &  39542166                  & 1.84                       & 23.67                      &  4.31                      &  0.92                      & 2015-11-01 13:19:59.961286 & 2015-11-01 13:19:59.961286\\\\\n",
       "\t  4                         & an                         & Andorra                    &     468                    &     468                    &      0                     &     85580                  & 0.12                       &  8.13                      &  6.96                      &  0.00                      & 2015-11-01 13:20:03.659945 & 2015-11-01 13:20:03.659945\\\\\n",
       "\t  5                         & ao                         & Angola                     & 1246700                    & 1246700                    &      0                     &  19625353                  & 2.78                       & 38.78                      & 11.49                      &  0.46                      & 2015-11-01 13:20:08.625072 & 2015-11-01 13:20:08.625072\\\\\n",
       "\t  6                         & ac                         & Antigua and Barbuda        &     442                    &     442                    &      0                     &     92436                  & 1.24                       & 15.85                      &  5.69                      &  2.21                      & 2015-11-01 13:20:13.049627 & 2015-11-01 13:20:13.049627\\\\\n",
       "\t  7                         & ar                         & Argentina                  & 2780400                    & 2736690                    &  43710                     &  43431886                  & 0.93                       & 16.64                      &  7.33                      &  0.00                      & 2015-11-01 13:20:18.233063 & 2015-11-01 13:20:18.233063\\\\\n",
       "\t  8                         & am                         & Armenia                    &   29743                    &   28203                    &   1540                     &   3056382                  & 0.15                       & 13.61                      &  9.34                      &  5.80                      & 2015-11-01 13:20:23.048753 & 2015-11-01 13:20:23.048753\\\\\n",
       "\t  9                         & as                         & Australia                  & 7741220                    & 7682300                    &  58920                     &  22751014                  & 1.07                       & 12.15                      &  7.14                      &  5.65                      & 2015-11-01 13:20:28.186341 & 2015-11-01 13:20:28.186341\\\\\n",
       "\t 10                         & au                         & Austria                    &   83871                    &   82445                    &   1426                     &   8665550                  & 0.55                       &  9.41                      &  9.42                      &  5.56                      & 2015-11-01 13:20:33.093597 & 2015-11-01 13:20:33.093597\\\\\n",
       "\t 11                         & aj                         & Azerbaijan                 &   86600                    &   82629                    &   3971                     &   9780780                  & 0.96                       & 16.64                      &  7.07                      &  0.00                      & 2015-11-01 13:20:38.210262 & 2015-11-01 13:20:38.210262\\\\\n",
       "\t 12                         & bf                         & Bahamas, The               &   13880                    &   10010                    &   3870                     &    324597                  & 0.85                       & 15.50                      &  7.05                      &  0.00                      & 2015-11-01 13:20:42.754219 & 2015-11-01 13:20:42.754219\\\\\n",
       "\t 13                         & ba                         & Bahrain                    &     760                    &     760                    &      0                     &   1346613                  & 2.41                       & 13.66                      &  2.69                      & 13.09                      & 2015-11-01 13:20:47.686896 & 2015-11-01 13:20:47.686896\\\\\n",
       "\t 14                         & bg                         & Bangladesh                 &  148460                    &  130170                    &  18290                     & 168957745                  & 1.60                       & 21.14                      &  5.61                      &  0.46                      & 2015-11-01 13:20:52.753843 & 2015-11-01 13:20:52.753843\\\\\n",
       "\t 15                         & bb                         & Barbados                   &     430                    &     430                    &      0                     &    290604                  & 0.31                       & 11.87                      &  8.44                      &  0.30                      & 2015-11-01 13:20:57.219984 & 2015-11-01 13:20:57.219984\\\\\n",
       "\t 16                         & bo                         & Belarus                    &  207600                    &  202900                    &   4700                     &   9589689                  & 0.20                       & 10.70                      & 13.36                      &  0.70                      & 2015-11-01 13:21:02.382438 & 2015-11-01 13:21:02.382438\\\\\n",
       "\t 17                         & be                         & Belgium                    &   30528                    &   30278                    &    250                     &  11323973                  & 0.76                       & 11.41                      &  9.63                      &  5.87                      & 2015-11-01 13:21:07.317024 & 2015-11-01 13:21:07.317024\\\\\n",
       "\t 18                         & bh                         & Belize                     &   22966                    &   22806                    &    160                     &    347369                  & 1.87                       & 24.68                      &  5.97                      &  0.00                      & 2015-11-01 13:21:12.255851 & 2015-11-01 13:21:12.255851\\\\\n",
       "\t 19                         & bn                         & Benin                      &  112622                    &  110622                    &   2000                     &  10448647                  & 2.78                       & 36.02                      &  8.21                      &  0.00                      & 2015-11-01 13:21:17.437291 & 2015-11-01 13:21:17.437291\\\\\n",
       "\t 20                         & bt                         & Bhutan                     &   38394                    &   38394                    &      0                     &    741919                  & 1.11                       & 17.78                      &  6.69                      &  0.00                      & 2015-11-01 13:21:21.942736 & 2015-11-01 13:21:21.942736\\\\\n",
       "\t 21                         & bl                         & Bolivia                    & 1098581                    & 1083301                    &  15280                     &  10800882                  & 1.56                       & 22.76                      &  6.52                      &  0.62                      & 2015-11-01 13:21:27.041970 & 2015-11-01 13:21:27.041970\\\\\n",
       "\t 22                         & bk                         & Bosnia and Herzegovina     &   51197                    &   51187                    &     10                     &   3867055                  & 0.13                       &  8.87                      &  9.75                      &  0.38                      & 2015-11-01 13:21:32.191346 & 2015-11-01 13:21:32.191346\\\\\n",
       "\t 23                         & bc                         & Botswana                   &  581730                    &  566730                    &  15000                     &   2182719                  & 1.21                       & 20.96                      & 13.39                      &  4.56                      & 2015-11-01 13:21:36.883097 & 2015-11-01 13:21:36.883097\\\\\n",
       "\t 24                         & br                         & Brazil                     & 8515770                    & 8358140                    & 157630                     & 204259812                  & 0.77                       & 14.46                      &  6.58                      &  0.14                      & 2015-11-01 13:21:42.799461 & 2015-11-01 13:21:42.799461\\\\\n",
       "\t 25                         & bx                         & Brunei                     &    5765                    &    5265                    &    500                     &    429646                  & 1.62                       & 17.32                      &  3.52                      &  2.43                      & 2015-11-01 13:21:47.136638 & 2015-11-01 13:21:47.136638\\\\\n",
       "\t 26                         & bu                         & Bulgaria                   &  110879                    &  108489                    &   2390                     &   7186893                  & 0.58                       &  8.92                      & 14.44                      &  0.29                      & 2015-11-01 13:21:52.018824 & 2015-11-01 13:21:52.018824\\\\\n",
       "\t 27                         & uv                         & Burkina Faso               &  274200                    &  273800                    &    400                     &  18931686                  & 3.03                       & 42.03                      & 11.72                      &  0.00                      & 2015-11-01 13:21:56.976083 & 2015-11-01 13:21:56.976083\\\\\n",
       "\t 28                         & bm                         & Burma                      &  676578                    &  653508                    &  23070                     &  56320206                  & 1.01                       & 18.39                      &  7.96                      &  0.28                      & 2015-11-01 13:22:03.329538 & 2015-11-01 13:22:03.329538\\\\\n",
       "\t 29                         & by                         & Burundi                    &   27830                    &   25680                    &   2150                     &  10742276                  & 3.28                       & 42.01                      &  9.27                      &  0.00                      & 2015-11-01 13:22:08.382756 & 2015-11-01 13:22:08.382756\\\\\n",
       "\t 30                         & cb                         & Cambodia                   &  181035                    &  176515                    &   4520                     &  15708756                  & 1.58                       & 23.83                      &  7.68                      &  0.32                      & 2015-11-01 13:22:16.286410 & 2015-11-01 13:22:16.286410\\\\\n",
       "\t ... & ... & ... & ... & ... & ... & ... & ... & ... & ... & ... & ... & ...\\\\\n",
       "\t 216                                           & aa                                            & Aruba                                         &    180                                        &    180                                        &    0                                          &  112162                                       & 1.33                                          & 12.56                                         &  8.18                                         &  8.92                                         & 2015-11-01 13:37:02.407642                    & 2015-11-01 13:37:02.407642                   \\\\\n",
       "\t 217                                           & cc                                            & Curacao                                       &    444                                        &    444                                        &    0                                          &  148406                                       & 0.43                                          & 13.80                                         &  8.20                                         &  1.40                                         & 2015-11-01 13:37:05.782750                    & 2015-11-01 13:37:05.782750                   \\\\\n",
       "\t 218                                           & sk                                            & Sint Maarten                                  &     34                                        &     34                                        &    0                                          &   39689                                       & 1.51                                          & 13.00                                         &  4.51                                         &  6.63                                         & 2015-11-01 13:37:08.571949                    & 2015-11-01 13:37:08.571949                   \\\\\n",
       "\t 219                                           & cw                                            & Cook Islands                                  &    236                                        &    236                                        &    0                                          &    9838                                       & 2.95                                          & 14.33                                         &  8.03                                         &    NA                                         & 2015-11-01 13:37:12.581604                    & 2015-11-01 13:37:12.581604                   \\\\\n",
       "\t 220                                           & ne                                            & Niue                                          &    260                                        &    260                                        &    0                                          &    1190                                       & 0.03                                          &    NA                                         &    NA                                         &    NA                                         & 2015-11-01 13:37:15.982898                    & 2015-11-01 13:37:15.982898                   \\\\\n",
       "\t 221                                           & tl                                            & Tokelau                                       &     12                                        &     12                                        &    0                                          &    1337                                       & 0.01                                          &    NA                                         &    NA                                         &    NA                                         & 2015-11-01 13:37:18.544305                    & 2015-11-01 13:37:18.544305                   \\\\\n",
       "\t 224                                           & sv                                            & Svalbard                                      &  62045                                        &  62045                                        &    0                                          &    1872                                       & 0.03                                          &    NA                                         &    NA                                         &    NA                                         & 2015-11-01 13:37:24.335698                    & 2015-11-01 13:37:24.335698                   \\\\\n",
       "\t 225                                           & ax                                            & Akrotiri                                      &    123                                        &     NA                                        &   NA                                          &   15700                                       &   NA                                          &    NA                                         &    NA                                         &    NA                                         & 2015-11-01 13:37:26.504715                    & 2015-11-01 13:37:26.504715                   \\\\\n",
       "\t 226                                           & av                                            & Anguilla                                      &     91                                        &     91                                        &    0                                          &   16418                                       & 2.03                                          & 12.67                                         &  4.57                                         & 12.18                                         & 2015-11-01 13:37:30.034876                    & 2015-11-01 13:37:30.034876                   \\\\\n",
       "\t 227                                           & bd                                            & Bermuda                                       &     54                                        &     54                                        &    0                                          &   70196                                       & 0.50                                          & 11.33                                         &  8.23                                         &  1.88                                         & 2015-11-01 13:37:33.894038                    & 2015-11-01 13:37:33.894038                   \\\\\n",
       "\t 229                                           & vi                                            & British Virgin Islands                        &    151                                        &    151                                        &    0                                          &   33454                                       & 2.32                                          & 10.91                                         &  4.99                                         & 17.28                                         & 2015-11-01 13:37:39.647840                    & 2015-11-01 13:37:39.647840                   \\\\\n",
       "\t 230                                           & cj                                            & Cayman Islands                                &    264                                        &    264                                        &    0                                          &   56092                                       & 2.10                                          & 12.11                                         &  5.53                                         & 14.40                                         & 2015-11-01 13:37:43.647884                    & 2015-11-01 13:37:43.647884                   \\\\\n",
       "\t 231                                           & dx                                            & Dhekelia                                      &    130                                        &     NA                                        &   NA                                          &   15700                                       &   NA                                          &    NA                                         &    NA                                         &    NA                                         & 2015-11-01 13:37:45.262682                    & 2015-11-01 13:37:45.262682                   \\\\\n",
       "\t 232                                           & fk                                            & Falkland Islands (Islas Malvinas)             &  12173                                        &  12173                                        &    0                                          &    3361                                       & 0.01                                          & 10.90                                         &  4.90                                         &    NA                                         & 2015-11-01 13:37:48.466688                    & 2015-11-01 13:37:48.466688                   \\\\\n",
       "\t 233                                           & gi                                            & Gibraltar                                     &      6                                        &      6                                        &    0                                          &   29258                                       & 0.24                                          & 14.08                                         &  8.37                                         &  3.28                                         & 2015-11-01 13:37:51.980087                    & 2015-11-01 13:37:51.980087                   \\\\\n",
       "\t 234                                           & gk                                            & Guernsey                                      &     78                                        &     78                                        &    0                                          &   66080                                       & 0.34                                          &  9.84                                         &  8.78                                         &  2.32                                         & 2015-11-01 13:37:55.085750                    & 2015-11-01 13:37:55.085750                   \\\\\n",
       "\t 235                                           & je                                            & Jersey                                        &    116                                        &    116                                        &    0                                          &   97294                                       & 0.80                                          & 11.91                                         &  7.68                                         &  3.76                                         & 2015-11-01 13:37:58.442238                    & 2015-11-01 13:37:58.442238                   \\\\\n",
       "\t 236                                           & im                                            & Isle of Man                                   &    572                                        &    572                                        &    0                                          &   87545                                       & 0.76                                          & 11.10                                         & 10.06                                         &  6.56                                         & 2015-11-01 13:38:01.914270                    & 2015-11-01 13:38:01.914270                   \\\\\n",
       "\t 237                                           & mh                                            & Montserrat                                    &    102                                        &    102                                        &    0                                          &    5241                                       & 0.50                                          & 11.26                                         &  6.30                                         &  0.00                                         & 2015-11-01 13:38:05.670256                    & 2015-11-01 13:38:05.670256                   \\\\\n",
       "\t 238                                           & pc                                            & Pitcairn Islands                              &     47                                        &     47                                        &    0                                          &      48                                       & 0.00                                          &    NA                                         &    NA                                         &    NA                                         & 2015-11-01 13:38:08.047849                    & 2015-11-01 13:38:08.047849                   \\\\\n",
       "\t 239                                           & sh                                            & Saint Helena, Ascension, and Tristan da Cunha &    308                                        &    122                                        &    0                                          &    7795                                       & 0.24                                          &  9.88                                         &  7.44                                         &  0.00                                         & 2015-11-01 13:38:11.767274                    & 2015-11-01 13:38:11.767274                   \\\\\n",
       "\t 241                                           & tk                                            & Turks and Caicos Islands                      &    948                                        &    948                                        &    0                                          &   50280                                       & 2.30                                          & 16.13                                         &  3.10                                         &  9.94                                         & 2015-11-01 13:38:17.164473                    & 2015-11-01 13:38:17.164473                   \\\\\n",
       "\t 242                                           & aq                                            & American Samoa                                &    199                                        &    199                                        &    0                                          &   54343                                       & 0.30                                          & 22.89                                         &  4.75                                         & 21.13                                         & 2015-11-01 13:38:20.926072                    & 2015-11-01 13:38:20.926072                   \\\\\n",
       "\t 243                                           & gq                                            & Guam                                          &    544                                        &    544                                        &    0                                          &  161785                                       & 0.54                                          & 16.82                                         &  5.12                                         &  6.34                                         & 2015-11-01 13:38:24.699655                    & 2015-11-01 13:38:24.699655                   \\\\\n",
       "\t 245                                           & cq                                            & Northern Mariana Islands                      &    464                                        &    464                                        &    0                                          &   52344                                       & 2.18                                          & 18.32                                         &  3.71                                         &  7.16                                         & 2015-11-01 13:38:30.017480                    & 2015-11-01 13:38:30.017480                   \\\\\n",
       "\t 246                                           & rq                                            & Puerto Rico                                   &  13791                                        &   8870                                        & 4921                                          & 3598357                                       & 0.60                                          & 10.86                                         &  8.67                                         &  8.15                                         & 2015-11-01 13:38:34.502065                    & 2015-11-01 13:38:34.502065                   \\\\\n",
       "\t 247                                           & vq                                            & Virgin Islands                                &   1910                                        &    346                                        & 1564                                          &  103574                                       & 0.59                                          & 10.31                                         &  8.54                                         &  7.67                                         & 2015-11-01 13:38:38.270075                    & 2015-11-01 13:38:38.270075                   \\\\\n",
       "\t 251                                           & gz                                            & Gaza Strip                                    &    360                                        &    360                                        &    0                                          & 1869055                                       & 2.81                                          & 31.11                                         &  3.04                                         &  0.00                                         & 2015-11-01 13:38:48.049460                    & 2015-11-01 13:38:48.049460                   \\\\\n",
       "\t 254                                           & we                                            & West Bank                                     &   5860                                        &   5640                                        &  220                                          & 2785366                                       & 1.95                                          & 22.99                                         &  3.50                                         &  0.00                                         & 2015-11-01 13:38:55.084643                    & 2015-11-01 13:38:55.084643                   \\\\\n",
       "\t 255                                           & wi                                            & Western Sahara                                & 266000                                        & 266000                                        &    0                                          &  570866                                       & 2.82                                          & 30.24                                         &  8.34                                         &    NA                                         & 2015-11-01 13:38:58.291161                    & 2015-11-01 13:38:58.291161                   \\\\\n",
       "\\end{tabular}\n"
      ],
      "text/markdown": [
       "\n",
       "| id | code | name | area | area_land | area_water | population | population_growth | birth_rate | death_rate | migration_rate | created_at | updated_at |\n",
       "|---|---|---|---|---|---|---|---|---|---|---|---|---|\n",
       "|  1                         | af                         | Afghanistan                |  652230                    |  652230                    |      0                     |  32564342                  | 2.32                       | 38.57                      | 13.89                      |  1.51                      | 2015-11-01 13:19:49.461734 | 2015-11-01 13:19:49.461734 |\n",
       "|  2                         | al                         | Albania                    |   28748                    |   27398                    |   1350                     |   3029278                  | 0.30                       | 12.92                      |  6.58                      |  3.30                      | 2015-11-01 13:19:54.431082 | 2015-11-01 13:19:54.431082 |\n",
       "|  3                         | ag                         | Algeria                    | 2381741                    | 2381741                    |      0                     |  39542166                  | 1.84                       | 23.67                      |  4.31                      |  0.92                      | 2015-11-01 13:19:59.961286 | 2015-11-01 13:19:59.961286 |\n",
       "|  4                         | an                         | Andorra                    |     468                    |     468                    |      0                     |     85580                  | 0.12                       |  8.13                      |  6.96                      |  0.00                      | 2015-11-01 13:20:03.659945 | 2015-11-01 13:20:03.659945 |\n",
       "|  5                         | ao                         | Angola                     | 1246700                    | 1246700                    |      0                     |  19625353                  | 2.78                       | 38.78                      | 11.49                      |  0.46                      | 2015-11-01 13:20:08.625072 | 2015-11-01 13:20:08.625072 |\n",
       "|  6                         | ac                         | Antigua and Barbuda        |     442                    |     442                    |      0                     |     92436                  | 1.24                       | 15.85                      |  5.69                      |  2.21                      | 2015-11-01 13:20:13.049627 | 2015-11-01 13:20:13.049627 |\n",
       "|  7                         | ar                         | Argentina                  | 2780400                    | 2736690                    |  43710                     |  43431886                  | 0.93                       | 16.64                      |  7.33                      |  0.00                      | 2015-11-01 13:20:18.233063 | 2015-11-01 13:20:18.233063 |\n",
       "|  8                         | am                         | Armenia                    |   29743                    |   28203                    |   1540                     |   3056382                  | 0.15                       | 13.61                      |  9.34                      |  5.80                      | 2015-11-01 13:20:23.048753 | 2015-11-01 13:20:23.048753 |\n",
       "|  9                         | as                         | Australia                  | 7741220                    | 7682300                    |  58920                     |  22751014                  | 1.07                       | 12.15                      |  7.14                      |  5.65                      | 2015-11-01 13:20:28.186341 | 2015-11-01 13:20:28.186341 |\n",
       "| 10                         | au                         | Austria                    |   83871                    |   82445                    |   1426                     |   8665550                  | 0.55                       |  9.41                      |  9.42                      |  5.56                      | 2015-11-01 13:20:33.093597 | 2015-11-01 13:20:33.093597 |\n",
       "| 11                         | aj                         | Azerbaijan                 |   86600                    |   82629                    |   3971                     |   9780780                  | 0.96                       | 16.64                      |  7.07                      |  0.00                      | 2015-11-01 13:20:38.210262 | 2015-11-01 13:20:38.210262 |\n",
       "| 12                         | bf                         | Bahamas, The               |   13880                    |   10010                    |   3870                     |    324597                  | 0.85                       | 15.50                      |  7.05                      |  0.00                      | 2015-11-01 13:20:42.754219 | 2015-11-01 13:20:42.754219 |\n",
       "| 13                         | ba                         | Bahrain                    |     760                    |     760                    |      0                     |   1346613                  | 2.41                       | 13.66                      |  2.69                      | 13.09                      | 2015-11-01 13:20:47.686896 | 2015-11-01 13:20:47.686896 |\n",
       "| 14                         | bg                         | Bangladesh                 |  148460                    |  130170                    |  18290                     | 168957745                  | 1.60                       | 21.14                      |  5.61                      |  0.46                      | 2015-11-01 13:20:52.753843 | 2015-11-01 13:20:52.753843 |\n",
       "| 15                         | bb                         | Barbados                   |     430                    |     430                    |      0                     |    290604                  | 0.31                       | 11.87                      |  8.44                      |  0.30                      | 2015-11-01 13:20:57.219984 | 2015-11-01 13:20:57.219984 |\n",
       "| 16                         | bo                         | Belarus                    |  207600                    |  202900                    |   4700                     |   9589689                  | 0.20                       | 10.70                      | 13.36                      |  0.70                      | 2015-11-01 13:21:02.382438 | 2015-11-01 13:21:02.382438 |\n",
       "| 17                         | be                         | Belgium                    |   30528                    |   30278                    |    250                     |  11323973                  | 0.76                       | 11.41                      |  9.63                      |  5.87                      | 2015-11-01 13:21:07.317024 | 2015-11-01 13:21:07.317024 |\n",
       "| 18                         | bh                         | Belize                     |   22966                    |   22806                    |    160                     |    347369                  | 1.87                       | 24.68                      |  5.97                      |  0.00                      | 2015-11-01 13:21:12.255851 | 2015-11-01 13:21:12.255851 |\n",
       "| 19                         | bn                         | Benin                      |  112622                    |  110622                    |   2000                     |  10448647                  | 2.78                       | 36.02                      |  8.21                      |  0.00                      | 2015-11-01 13:21:17.437291 | 2015-11-01 13:21:17.437291 |\n",
       "| 20                         | bt                         | Bhutan                     |   38394                    |   38394                    |      0                     |    741919                  | 1.11                       | 17.78                      |  6.69                      |  0.00                      | 2015-11-01 13:21:21.942736 | 2015-11-01 13:21:21.942736 |\n",
       "| 21                         | bl                         | Bolivia                    | 1098581                    | 1083301                    |  15280                     |  10800882                  | 1.56                       | 22.76                      |  6.52                      |  0.62                      | 2015-11-01 13:21:27.041970 | 2015-11-01 13:21:27.041970 |\n",
       "| 22                         | bk                         | Bosnia and Herzegovina     |   51197                    |   51187                    |     10                     |   3867055                  | 0.13                       |  8.87                      |  9.75                      |  0.38                      | 2015-11-01 13:21:32.191346 | 2015-11-01 13:21:32.191346 |\n",
       "| 23                         | bc                         | Botswana                   |  581730                    |  566730                    |  15000                     |   2182719                  | 1.21                       | 20.96                      | 13.39                      |  4.56                      | 2015-11-01 13:21:36.883097 | 2015-11-01 13:21:36.883097 |\n",
       "| 24                         | br                         | Brazil                     | 8515770                    | 8358140                    | 157630                     | 204259812                  | 0.77                       | 14.46                      |  6.58                      |  0.14                      | 2015-11-01 13:21:42.799461 | 2015-11-01 13:21:42.799461 |\n",
       "| 25                         | bx                         | Brunei                     |    5765                    |    5265                    |    500                     |    429646                  | 1.62                       | 17.32                      |  3.52                      |  2.43                      | 2015-11-01 13:21:47.136638 | 2015-11-01 13:21:47.136638 |\n",
       "| 26                         | bu                         | Bulgaria                   |  110879                    |  108489                    |   2390                     |   7186893                  | 0.58                       |  8.92                      | 14.44                      |  0.29                      | 2015-11-01 13:21:52.018824 | 2015-11-01 13:21:52.018824 |\n",
       "| 27                         | uv                         | Burkina Faso               |  274200                    |  273800                    |    400                     |  18931686                  | 3.03                       | 42.03                      | 11.72                      |  0.00                      | 2015-11-01 13:21:56.976083 | 2015-11-01 13:21:56.976083 |\n",
       "| 28                         | bm                         | Burma                      |  676578                    |  653508                    |  23070                     |  56320206                  | 1.01                       | 18.39                      |  7.96                      |  0.28                      | 2015-11-01 13:22:03.329538 | 2015-11-01 13:22:03.329538 |\n",
       "| 29                         | by                         | Burundi                    |   27830                    |   25680                    |   2150                     |  10742276                  | 3.28                       | 42.01                      |  9.27                      |  0.00                      | 2015-11-01 13:22:08.382756 | 2015-11-01 13:22:08.382756 |\n",
       "| 30                         | cb                         | Cambodia                   |  181035                    |  176515                    |   4520                     |  15708756                  | 1.58                       | 23.83                      |  7.68                      |  0.32                      | 2015-11-01 13:22:16.286410 | 2015-11-01 13:22:16.286410 |\n",
       "| ... | ... | ... | ... | ... | ... | ... | ... | ... | ... | ... | ... | ... |\n",
       "| 216                                           | aa                                            | Aruba                                         |    180                                        |    180                                        |    0                                          |  112162                                       | 1.33                                          | 12.56                                         |  8.18                                         |  8.92                                         | 2015-11-01 13:37:02.407642                    | 2015-11-01 13:37:02.407642                    |\n",
       "| 217                                           | cc                                            | Curacao                                       |    444                                        |    444                                        |    0                                          |  148406                                       | 0.43                                          | 13.80                                         |  8.20                                         |  1.40                                         | 2015-11-01 13:37:05.782750                    | 2015-11-01 13:37:05.782750                    |\n",
       "| 218                                           | sk                                            | Sint Maarten                                  |     34                                        |     34                                        |    0                                          |   39689                                       | 1.51                                          | 13.00                                         |  4.51                                         |  6.63                                         | 2015-11-01 13:37:08.571949                    | 2015-11-01 13:37:08.571949                    |\n",
       "| 219                                           | cw                                            | Cook Islands                                  |    236                                        |    236                                        |    0                                          |    9838                                       | 2.95                                          | 14.33                                         |  8.03                                         |    NA                                         | 2015-11-01 13:37:12.581604                    | 2015-11-01 13:37:12.581604                    |\n",
       "| 220                                           | ne                                            | Niue                                          |    260                                        |    260                                        |    0                                          |    1190                                       | 0.03                                          |    NA                                         |    NA                                         |    NA                                         | 2015-11-01 13:37:15.982898                    | 2015-11-01 13:37:15.982898                    |\n",
       "| 221                                           | tl                                            | Tokelau                                       |     12                                        |     12                                        |    0                                          |    1337                                       | 0.01                                          |    NA                                         |    NA                                         |    NA                                         | 2015-11-01 13:37:18.544305                    | 2015-11-01 13:37:18.544305                    |\n",
       "| 224                                           | sv                                            | Svalbard                                      |  62045                                        |  62045                                        |    0                                          |    1872                                       | 0.03                                          |    NA                                         |    NA                                         |    NA                                         | 2015-11-01 13:37:24.335698                    | 2015-11-01 13:37:24.335698                    |\n",
       "| 225                                           | ax                                            | Akrotiri                                      |    123                                        |     NA                                        |   NA                                          |   15700                                       |   NA                                          |    NA                                         |    NA                                         |    NA                                         | 2015-11-01 13:37:26.504715                    | 2015-11-01 13:37:26.504715                    |\n",
       "| 226                                           | av                                            | Anguilla                                      |     91                                        |     91                                        |    0                                          |   16418                                       | 2.03                                          | 12.67                                         |  4.57                                         | 12.18                                         | 2015-11-01 13:37:30.034876                    | 2015-11-01 13:37:30.034876                    |\n",
       "| 227                                           | bd                                            | Bermuda                                       |     54                                        |     54                                        |    0                                          |   70196                                       | 0.50                                          | 11.33                                         |  8.23                                         |  1.88                                         | 2015-11-01 13:37:33.894038                    | 2015-11-01 13:37:33.894038                    |\n",
       "| 229                                           | vi                                            | British Virgin Islands                        |    151                                        |    151                                        |    0                                          |   33454                                       | 2.32                                          | 10.91                                         |  4.99                                         | 17.28                                         | 2015-11-01 13:37:39.647840                    | 2015-11-01 13:37:39.647840                    |\n",
       "| 230                                           | cj                                            | Cayman Islands                                |    264                                        |    264                                        |    0                                          |   56092                                       | 2.10                                          | 12.11                                         |  5.53                                         | 14.40                                         | 2015-11-01 13:37:43.647884                    | 2015-11-01 13:37:43.647884                    |\n",
       "| 231                                           | dx                                            | Dhekelia                                      |    130                                        |     NA                                        |   NA                                          |   15700                                       |   NA                                          |    NA                                         |    NA                                         |    NA                                         | 2015-11-01 13:37:45.262682                    | 2015-11-01 13:37:45.262682                    |\n",
       "| 232                                           | fk                                            | Falkland Islands (Islas Malvinas)             |  12173                                        |  12173                                        |    0                                          |    3361                                       | 0.01                                          | 10.90                                         |  4.90                                         |    NA                                         | 2015-11-01 13:37:48.466688                    | 2015-11-01 13:37:48.466688                    |\n",
       "| 233                                           | gi                                            | Gibraltar                                     |      6                                        |      6                                        |    0                                          |   29258                                       | 0.24                                          | 14.08                                         |  8.37                                         |  3.28                                         | 2015-11-01 13:37:51.980087                    | 2015-11-01 13:37:51.980087                    |\n",
       "| 234                                           | gk                                            | Guernsey                                      |     78                                        |     78                                        |    0                                          |   66080                                       | 0.34                                          |  9.84                                         |  8.78                                         |  2.32                                         | 2015-11-01 13:37:55.085750                    | 2015-11-01 13:37:55.085750                    |\n",
       "| 235                                           | je                                            | Jersey                                        |    116                                        |    116                                        |    0                                          |   97294                                       | 0.80                                          | 11.91                                         |  7.68                                         |  3.76                                         | 2015-11-01 13:37:58.442238                    | 2015-11-01 13:37:58.442238                    |\n",
       "| 236                                           | im                                            | Isle of Man                                   |    572                                        |    572                                        |    0                                          |   87545                                       | 0.76                                          | 11.10                                         | 10.06                                         |  6.56                                         | 2015-11-01 13:38:01.914270                    | 2015-11-01 13:38:01.914270                    |\n",
       "| 237                                           | mh                                            | Montserrat                                    |    102                                        |    102                                        |    0                                          |    5241                                       | 0.50                                          | 11.26                                         |  6.30                                         |  0.00                                         | 2015-11-01 13:38:05.670256                    | 2015-11-01 13:38:05.670256                    |\n",
       "| 238                                           | pc                                            | Pitcairn Islands                              |     47                                        |     47                                        |    0                                          |      48                                       | 0.00                                          |    NA                                         |    NA                                         |    NA                                         | 2015-11-01 13:38:08.047849                    | 2015-11-01 13:38:08.047849                    |\n",
       "| 239                                           | sh                                            | Saint Helena, Ascension, and Tristan da Cunha |    308                                        |    122                                        |    0                                          |    7795                                       | 0.24                                          |  9.88                                         |  7.44                                         |  0.00                                         | 2015-11-01 13:38:11.767274                    | 2015-11-01 13:38:11.767274                    |\n",
       "| 241                                           | tk                                            | Turks and Caicos Islands                      |    948                                        |    948                                        |    0                                          |   50280                                       | 2.30                                          | 16.13                                         |  3.10                                         |  9.94                                         | 2015-11-01 13:38:17.164473                    | 2015-11-01 13:38:17.164473                    |\n",
       "| 242                                           | aq                                            | American Samoa                                |    199                                        |    199                                        |    0                                          |   54343                                       | 0.30                                          | 22.89                                         |  4.75                                         | 21.13                                         | 2015-11-01 13:38:20.926072                    | 2015-11-01 13:38:20.926072                    |\n",
       "| 243                                           | gq                                            | Guam                                          |    544                                        |    544                                        |    0                                          |  161785                                       | 0.54                                          | 16.82                                         |  5.12                                         |  6.34                                         | 2015-11-01 13:38:24.699655                    | 2015-11-01 13:38:24.699655                    |\n",
       "| 245                                           | cq                                            | Northern Mariana Islands                      |    464                                        |    464                                        |    0                                          |   52344                                       | 2.18                                          | 18.32                                         |  3.71                                         |  7.16                                         | 2015-11-01 13:38:30.017480                    | 2015-11-01 13:38:30.017480                    |\n",
       "| 246                                           | rq                                            | Puerto Rico                                   |  13791                                        |   8870                                        | 4921                                          | 3598357                                       | 0.60                                          | 10.86                                         |  8.67                                         |  8.15                                         | 2015-11-01 13:38:34.502065                    | 2015-11-01 13:38:34.502065                    |\n",
       "| 247                                           | vq                                            | Virgin Islands                                |   1910                                        |    346                                        | 1564                                          |  103574                                       | 0.59                                          | 10.31                                         |  8.54                                         |  7.67                                         | 2015-11-01 13:38:38.270075                    | 2015-11-01 13:38:38.270075                    |\n",
       "| 251                                           | gz                                            | Gaza Strip                                    |    360                                        |    360                                        |    0                                          | 1869055                                       | 2.81                                          | 31.11                                         |  3.04                                         |  0.00                                         | 2015-11-01 13:38:48.049460                    | 2015-11-01 13:38:48.049460                    |\n",
       "| 254                                           | we                                            | West Bank                                     |   5860                                        |   5640                                        |  220                                          | 2785366                                       | 1.95                                          | 22.99                                         |  3.50                                         |  0.00                                         | 2015-11-01 13:38:55.084643                    | 2015-11-01 13:38:55.084643                    |\n",
       "| 255                                           | wi                                            | Western Sahara                                | 266000                                        | 266000                                        |    0                                          |  570866                                       | 2.82                                          | 30.24                                         |  8.34                                         |    NA                                         | 2015-11-01 13:38:58.291161                    | 2015-11-01 13:38:58.291161                    |\n",
       "\n"
      ],
      "text/plain": [
       "    id  code name                                          area    area_land\n",
       "1    1  af   Afghanistan                                    652230  652230  \n",
       "2    2  al   Albania                                         28748   27398  \n",
       "3    3  ag   Algeria                                       2381741 2381741  \n",
       "4    4  an   Andorra                                           468     468  \n",
       "5    5  ao   Angola                                        1246700 1246700  \n",
       "6    6  ac   Antigua and Barbuda                               442     442  \n",
       "7    7  ar   Argentina                                     2780400 2736690  \n",
       "8    8  am   Armenia                                         29743   28203  \n",
       "9    9  as   Australia                                     7741220 7682300  \n",
       "10  10  au   Austria                                         83871   82445  \n",
       "11  11  aj   Azerbaijan                                      86600   82629  \n",
       "12  12  bf   Bahamas, The                                    13880   10010  \n",
       "13  13  ba   Bahrain                                           760     760  \n",
       "14  14  bg   Bangladesh                                     148460  130170  \n",
       "15  15  bb   Barbados                                          430     430  \n",
       "16  16  bo   Belarus                                        207600  202900  \n",
       "17  17  be   Belgium                                         30528   30278  \n",
       "18  18  bh   Belize                                          22966   22806  \n",
       "19  19  bn   Benin                                          112622  110622  \n",
       "20  20  bt   Bhutan                                          38394   38394  \n",
       "21  21  bl   Bolivia                                       1098581 1083301  \n",
       "22  22  bk   Bosnia and Herzegovina                          51197   51187  \n",
       "23  23  bc   Botswana                                       581730  566730  \n",
       "24  24  br   Brazil                                        8515770 8358140  \n",
       "25  25  bx   Brunei                                           5765    5265  \n",
       "26  26  bu   Bulgaria                                       110879  108489  \n",
       "27  27  uv   Burkina Faso                                   274200  273800  \n",
       "28  28  bm   Burma                                          676578  653508  \n",
       "29  29  by   Burundi                                         27830   25680  \n",
       "30  30  cb   Cambodia                                       181035  176515  \n",
       "... ... ...  ...                                           ...     ...      \n",
       "211 216 aa   Aruba                                            180     180   \n",
       "212 217 cc   Curacao                                          444     444   \n",
       "213 218 sk   Sint Maarten                                      34      34   \n",
       "214 219 cw   Cook Islands                                     236     236   \n",
       "215 220 ne   Niue                                             260     260   \n",
       "216 221 tl   Tokelau                                           12      12   \n",
       "217 224 sv   Svalbard                                       62045   62045   \n",
       "218 225 ax   Akrotiri                                         123      NA   \n",
       "219 226 av   Anguilla                                          91      91   \n",
       "220 227 bd   Bermuda                                           54      54   \n",
       "221 229 vi   British Virgin Islands                           151     151   \n",
       "222 230 cj   Cayman Islands                                   264     264   \n",
       "223 231 dx   Dhekelia                                         130      NA   \n",
       "224 232 fk   Falkland Islands (Islas Malvinas)              12173   12173   \n",
       "225 233 gi   Gibraltar                                          6       6   \n",
       "226 234 gk   Guernsey                                          78      78   \n",
       "227 235 je   Jersey                                           116     116   \n",
       "228 236 im   Isle of Man                                      572     572   \n",
       "229 237 mh   Montserrat                                       102     102   \n",
       "230 238 pc   Pitcairn Islands                                  47      47   \n",
       "231 239 sh   Saint Helena, Ascension, and Tristan da Cunha    308     122   \n",
       "232 241 tk   Turks and Caicos Islands                         948     948   \n",
       "233 242 aq   American Samoa                                   199     199   \n",
       "234 243 gq   Guam                                             544     544   \n",
       "235 245 cq   Northern Mariana Islands                         464     464   \n",
       "236 246 rq   Puerto Rico                                    13791    8870   \n",
       "237 247 vq   Virgin Islands                                  1910     346   \n",
       "238 251 gz   Gaza Strip                                       360     360   \n",
       "239 254 we   West Bank                                       5860    5640   \n",
       "240 255 wi   Western Sahara                                266000  266000   \n",
       "    area_water population population_growth birth_rate death_rate\n",
       "1        0      32564342  2.32              38.57      13.89     \n",
       "2     1350       3029278  0.30              12.92       6.58     \n",
       "3        0      39542166  1.84              23.67       4.31     \n",
       "4        0         85580  0.12               8.13       6.96     \n",
       "5        0      19625353  2.78              38.78      11.49     \n",
       "6        0         92436  1.24              15.85       5.69     \n",
       "7    43710      43431886  0.93              16.64       7.33     \n",
       "8     1540       3056382  0.15              13.61       9.34     \n",
       "9    58920      22751014  1.07              12.15       7.14     \n",
       "10    1426       8665550  0.55               9.41       9.42     \n",
       "11    3971       9780780  0.96              16.64       7.07     \n",
       "12    3870        324597  0.85              15.50       7.05     \n",
       "13       0       1346613  2.41              13.66       2.69     \n",
       "14   18290     168957745  1.60              21.14       5.61     \n",
       "15       0        290604  0.31              11.87       8.44     \n",
       "16    4700       9589689  0.20              10.70      13.36     \n",
       "17     250      11323973  0.76              11.41       9.63     \n",
       "18     160        347369  1.87              24.68       5.97     \n",
       "19    2000      10448647  2.78              36.02       8.21     \n",
       "20       0        741919  1.11              17.78       6.69     \n",
       "21   15280      10800882  1.56              22.76       6.52     \n",
       "22      10       3867055  0.13               8.87       9.75     \n",
       "23   15000       2182719  1.21              20.96      13.39     \n",
       "24  157630     204259812  0.77              14.46       6.58     \n",
       "25     500        429646  1.62              17.32       3.52     \n",
       "26    2390       7186893  0.58               8.92      14.44     \n",
       "27     400      18931686  3.03              42.03      11.72     \n",
       "28   23070      56320206  1.01              18.39       7.96     \n",
       "29    2150      10742276  3.28              42.01       9.27     \n",
       "30    4520      15708756  1.58              23.83       7.68     \n",
       "... ...        ...        ...               ...        ...       \n",
       "211    0        112162    1.33              12.56       8.18     \n",
       "212    0        148406    0.43              13.80       8.20     \n",
       "213    0         39689    1.51              13.00       4.51     \n",
       "214    0          9838    2.95              14.33       8.03     \n",
       "215    0          1190    0.03                 NA         NA     \n",
       "216    0          1337    0.01                 NA         NA     \n",
       "217    0          1872    0.03                 NA         NA     \n",
       "218   NA         15700      NA                 NA         NA     \n",
       "219    0         16418    2.03              12.67       4.57     \n",
       "220    0         70196    0.50              11.33       8.23     \n",
       "221    0         33454    2.32              10.91       4.99     \n",
       "222    0         56092    2.10              12.11       5.53     \n",
       "223   NA         15700      NA                 NA         NA     \n",
       "224    0          3361    0.01              10.90       4.90     \n",
       "225    0         29258    0.24              14.08       8.37     \n",
       "226    0         66080    0.34               9.84       8.78     \n",
       "227    0         97294    0.80              11.91       7.68     \n",
       "228    0         87545    0.76              11.10      10.06     \n",
       "229    0          5241    0.50              11.26       6.30     \n",
       "230    0            48    0.00                 NA         NA     \n",
       "231    0          7795    0.24               9.88       7.44     \n",
       "232    0         50280    2.30              16.13       3.10     \n",
       "233    0         54343    0.30              22.89       4.75     \n",
       "234    0        161785    0.54              16.82       5.12     \n",
       "235    0         52344    2.18              18.32       3.71     \n",
       "236 4921       3598357    0.60              10.86       8.67     \n",
       "237 1564        103574    0.59              10.31       8.54     \n",
       "238    0       1869055    2.81              31.11       3.04     \n",
       "239  220       2785366    1.95              22.99       3.50     \n",
       "240    0        570866    2.82              30.24       8.34     \n",
       "    migration_rate created_at                 updated_at                \n",
       "1    1.51          2015-11-01 13:19:49.461734 2015-11-01 13:19:49.461734\n",
       "2    3.30          2015-11-01 13:19:54.431082 2015-11-01 13:19:54.431082\n",
       "3    0.92          2015-11-01 13:19:59.961286 2015-11-01 13:19:59.961286\n",
       "4    0.00          2015-11-01 13:20:03.659945 2015-11-01 13:20:03.659945\n",
       "5    0.46          2015-11-01 13:20:08.625072 2015-11-01 13:20:08.625072\n",
       "6    2.21          2015-11-01 13:20:13.049627 2015-11-01 13:20:13.049627\n",
       "7    0.00          2015-11-01 13:20:18.233063 2015-11-01 13:20:18.233063\n",
       "8    5.80          2015-11-01 13:20:23.048753 2015-11-01 13:20:23.048753\n",
       "9    5.65          2015-11-01 13:20:28.186341 2015-11-01 13:20:28.186341\n",
       "10   5.56          2015-11-01 13:20:33.093597 2015-11-01 13:20:33.093597\n",
       "11   0.00          2015-11-01 13:20:38.210262 2015-11-01 13:20:38.210262\n",
       "12   0.00          2015-11-01 13:20:42.754219 2015-11-01 13:20:42.754219\n",
       "13  13.09          2015-11-01 13:20:47.686896 2015-11-01 13:20:47.686896\n",
       "14   0.46          2015-11-01 13:20:52.753843 2015-11-01 13:20:52.753843\n",
       "15   0.30          2015-11-01 13:20:57.219984 2015-11-01 13:20:57.219984\n",
       "16   0.70          2015-11-01 13:21:02.382438 2015-11-01 13:21:02.382438\n",
       "17   5.87          2015-11-01 13:21:07.317024 2015-11-01 13:21:07.317024\n",
       "18   0.00          2015-11-01 13:21:12.255851 2015-11-01 13:21:12.255851\n",
       "19   0.00          2015-11-01 13:21:17.437291 2015-11-01 13:21:17.437291\n",
       "20   0.00          2015-11-01 13:21:21.942736 2015-11-01 13:21:21.942736\n",
       "21   0.62          2015-11-01 13:21:27.041970 2015-11-01 13:21:27.041970\n",
       "22   0.38          2015-11-01 13:21:32.191346 2015-11-01 13:21:32.191346\n",
       "23   4.56          2015-11-01 13:21:36.883097 2015-11-01 13:21:36.883097\n",
       "24   0.14          2015-11-01 13:21:42.799461 2015-11-01 13:21:42.799461\n",
       "25   2.43          2015-11-01 13:21:47.136638 2015-11-01 13:21:47.136638\n",
       "26   0.29          2015-11-01 13:21:52.018824 2015-11-01 13:21:52.018824\n",
       "27   0.00          2015-11-01 13:21:56.976083 2015-11-01 13:21:56.976083\n",
       "28   0.28          2015-11-01 13:22:03.329538 2015-11-01 13:22:03.329538\n",
       "29   0.00          2015-11-01 13:22:08.382756 2015-11-01 13:22:08.382756\n",
       "30   0.32          2015-11-01 13:22:16.286410 2015-11-01 13:22:16.286410\n",
       "... ...            ...                        ...                       \n",
       "211  8.92          2015-11-01 13:37:02.407642 2015-11-01 13:37:02.407642\n",
       "212  1.40          2015-11-01 13:37:05.782750 2015-11-01 13:37:05.782750\n",
       "213  6.63          2015-11-01 13:37:08.571949 2015-11-01 13:37:08.571949\n",
       "214    NA          2015-11-01 13:37:12.581604 2015-11-01 13:37:12.581604\n",
       "215    NA          2015-11-01 13:37:15.982898 2015-11-01 13:37:15.982898\n",
       "216    NA          2015-11-01 13:37:18.544305 2015-11-01 13:37:18.544305\n",
       "217    NA          2015-11-01 13:37:24.335698 2015-11-01 13:37:24.335698\n",
       "218    NA          2015-11-01 13:37:26.504715 2015-11-01 13:37:26.504715\n",
       "219 12.18          2015-11-01 13:37:30.034876 2015-11-01 13:37:30.034876\n",
       "220  1.88          2015-11-01 13:37:33.894038 2015-11-01 13:37:33.894038\n",
       "221 17.28          2015-11-01 13:37:39.647840 2015-11-01 13:37:39.647840\n",
       "222 14.40          2015-11-01 13:37:43.647884 2015-11-01 13:37:43.647884\n",
       "223    NA          2015-11-01 13:37:45.262682 2015-11-01 13:37:45.262682\n",
       "224    NA          2015-11-01 13:37:48.466688 2015-11-01 13:37:48.466688\n",
       "225  3.28          2015-11-01 13:37:51.980087 2015-11-01 13:37:51.980087\n",
       "226  2.32          2015-11-01 13:37:55.085750 2015-11-01 13:37:55.085750\n",
       "227  3.76          2015-11-01 13:37:58.442238 2015-11-01 13:37:58.442238\n",
       "228  6.56          2015-11-01 13:38:01.914270 2015-11-01 13:38:01.914270\n",
       "229  0.00          2015-11-01 13:38:05.670256 2015-11-01 13:38:05.670256\n",
       "230    NA          2015-11-01 13:38:08.047849 2015-11-01 13:38:08.047849\n",
       "231  0.00          2015-11-01 13:38:11.767274 2015-11-01 13:38:11.767274\n",
       "232  9.94          2015-11-01 13:38:17.164473 2015-11-01 13:38:17.164473\n",
       "233 21.13          2015-11-01 13:38:20.926072 2015-11-01 13:38:20.926072\n",
       "234  6.34          2015-11-01 13:38:24.699655 2015-11-01 13:38:24.699655\n",
       "235  7.16          2015-11-01 13:38:30.017480 2015-11-01 13:38:30.017480\n",
       "236  8.15          2015-11-01 13:38:34.502065 2015-11-01 13:38:34.502065\n",
       "237  7.67          2015-11-01 13:38:38.270075 2015-11-01 13:38:38.270075\n",
       "238  0.00          2015-11-01 13:38:48.049460 2015-11-01 13:38:48.049460\n",
       "239  0.00          2015-11-01 13:38:55.084643 2015-11-01 13:38:55.084643\n",
       "240    NA          2015-11-01 13:38:58.291161 2015-11-01 13:38:58.291161"
      ]
     },
     "metadata": {},
     "output_type": "display_data"
    }
   ],
   "source": [
    "query4 <- \"SELECT * FROM facts WHERE population NOT IN ((SELECT MIN(population) FROM facts), (SELECT MAX(population) FROM facts))\"\n",
    "\n",
    "result4 <- dbGetQuery(conn, query4)\n",
    "\n",
    "result4"
   ]
  },
  {
   "cell_type": "code",
   "execution_count": 6,
   "metadata": {},
   "outputs": [
    {
     "name": "stdout",
     "output_type": "stream",
     "text": [
      "[1] 1367485388\n",
      "[1] 240  13\n"
     ]
    }
   ],
   "source": [
    "print(max(result4[\"population\"]))\n",
    "\n",
    "print(dim(result4))"
   ]
  },
  {
   "cell_type": "markdown",
   "metadata": {},
   "source": [
    "## Data Visualization using revised Dataframe\n",
    "\n",
    "We see above that the result4 tibble now only has 240 rows, and that the maximum population of any country is about 1.3 billion. This figure correctly represents China's population 2015. \n",
    "\n",
    "Let's now import a few more libraries that will assist us in our further visualization efforts:"
   ]
  },
  {
   "cell_type": "code",
   "execution_count": 7,
   "metadata": {},
   "outputs": [
    {
     "name": "stderr",
     "output_type": "stream",
     "text": [
      "Registered S3 method overwritten by 'rvest':\n",
      "  method            from\n",
      "  read_xml.response xml2\n",
      "-- Attaching packages --------------------------------------- tidyverse 1.2.1 --\n",
      "v ggplot2 3.2.0     v purrr   0.3.2\n",
      "v tibble  2.1.3     v dplyr   0.8.3\n",
      "v tidyr   0.8.3     v stringr 1.4.0\n",
      "v readr   1.3.1     v forcats 0.4.0\n",
      "Warning message:\n",
      "\"package 'dplyr' was built under R version 3.6.1\"-- Conflicts ------------------------------------------ tidyverse_conflicts() --\n",
      "x dplyr::filter() masks stats::filter()\n",
      "x dplyr::lag()    masks stats::lag()\n"
     ]
    }
   ],
   "source": [
    "library(tidyverse)\n",
    "library(ggplot2)\n",
    "library(dplyr)"
   ]
  },
  {
   "cell_type": "markdown",
   "metadata": {},
   "source": [
    "We'll plot Histograms for the following columns:\n",
    "\n",
    "- population\n",
    "- population_growth\n",
    "- birth_rate\n",
    "- death_rate\n",
    "\n",
    "Let's start by defining a function that will perform this."
   ]
  },
  {
   "cell_type": "code",
   "execution_count": 16,
   "metadata": {},
   "outputs": [
    {
     "name": "stderr",
     "output_type": "stream",
     "text": [
      "Warning message:\n",
      "\"Removed 5 rows containing non-finite values (stat_bin).\""
     ]
    },
    {
     "data": {
      "image/png": "[encoded data removed]",
      "text/plain": [
       "plot without title"
      ]
     },
     "metadata": {},
     "output_type": "display_data"
    },
    {
     "name": "stderr",
     "output_type": "stream",
     "text": [
      "Warning message:\n",
      "\"Removed 13 rows containing non-finite values (stat_bin).\""
     ]
    },
    {
     "data": {
      "image/png": "[encoded data removed]",
      "text/plain": [
       "plot without title"
      ]
     },
     "metadata": {},
     "output_type": "display_data"
    },
    {
     "name": "stderr",
     "output_type": "stream",
     "text": [
      "Warning message:\n",
      "\"Removed 13 rows containing non-finite values (stat_bin).\""
     ]
    },
    {
     "data": {
      "text/plain": [
       "[[1]]\n",
       "\n",
       "[[2]]\n",
       "\n",
       "[[3]]\n",
       "\n",
       "[[4]]\n"
      ]
     },
     "metadata": {},
     "output_type": "display_data"
    },
    {
     "data": {
      "image/png": "[encoded data removed]",
      "text/plain": [
       "plot without title"
      ]
     },
     "metadata": {},
     "output_type": "display_data"
    },
    {
     "data": {
      "image/png": "[encoded data removed]",
      "text/plain": [
       "plot without title"
      ]
     },
     "metadata": {},
     "output_type": "display_data"
    }
   ],
   "source": [
    "histogram_plot <- function(x){\n",
    "    ggplot(data = result4) + aes_string(x = x) + geom_histogram(bins=100)\n",
    "}\n",
    "\n",
    "x_vals = names(result4)[7:10]\n",
    "\n",
    "map(x_vals, histogram_plot)"
   ]
  },
  {
   "cell_type": "markdown",
   "metadata": {},
   "source": [
    "The distribution for the Histogram suggests that most countries experienced a population growth of 0-1.5%. Less than 10% of countries saw a population growth of more than 3%.\n",
    "\n",
    "In line with the above, we also see that most countries saw 5-20 births per 1000 people. About 5% of countries experienced birth rates of 40 per 1000 people or more.\n",
    "\n",
    "The death rates are much more evenly distributed. While the majority of countries saw death rates from 5-10 per 1000 people, there are a fair few that experienced death rates slightly above that. \n",
    "\n",
    "The Histogram we generated for population is skewed severely by the presence of 2 countries with populations over 1 billion, which we know to be China and India. Since [only 14 countries had populations above 100 million in 2015](https://www.worldometers.info/world-population/population-by-country/), we'll filter the `result4` tibble to exclude them, to minimize skewing."
   ]
  },
  {
   "cell_type": "code",
   "execution_count": 19,
   "metadata": {},
   "outputs": [
    {
     "data": {
      "image/png": "[encoded data removed]",
      "text/plain": [
       "plot without title"
      ]
     },
     "metadata": {},
     "output_type": "display_data"
    }
   ],
   "source": [
    "pop_filtered <- result4 %>% filter(population < 100000000)\n",
    "\n",
    "pop_hist <- ggplot(data=pop_filtered) + aes(x=population) + geom_histogram(bins=100)\n",
    "\n",
    "pop_hist"
   ]
  },
  {
   "cell_type": "markdown",
   "metadata": {},
   "source": [
    "We see that an overwhelming majority of countries have a population of 12.5 million or less (note that 2.5e+07 denotes 25 million). There is a very large proportion of countries with populations of 6 million or less that are responsible for the histogram being skewed significantly left. "
   ]
  },
  {
   "cell_type": "markdown",
   "metadata": {},
   "source": [
    "## Exploring Population Densities\n",
    "\n",
    "Population Densities are calculated by dividing a country's total population by its land area. We'll inspect what the highest population densities were in 2015, and see how they might be different from [today's population densities](https://simple.wikipedia.org/wiki/List_of_countries_and_dependencies_by_population_density).\n",
    "\n",
    "Our table doesn't have a column on population density yet, but it has the info we need to make one. We'll also need to remove countries with `area_land` listed as 0, so we don't have an infinite population density value."
   ]
  },
  {
   "cell_type": "code",
   "execution_count": 30,
   "metadata": {},
   "outputs": [
    {
     "data": {
      "text/html": [
       "<table>\n",
       "<thead><tr><th scope=col>name</th><th scope=col>population</th><th scope=col>area_land</th><th scope=col>popdensity</th></tr></thead>\n",
       "<tbody>\n",
       "\t<tr><td>Macau     </td><td> 592731   </td><td>  28      </td><td>21168.964 </td></tr>\n",
       "\t<tr><td>Monaco    </td><td>  30535   </td><td>   2      </td><td>15267.500 </td></tr>\n",
       "\t<tr><td>Singapore </td><td>5674472   </td><td> 687      </td><td> 8259.785 </td></tr>\n",
       "\t<tr><td>Hong Kong </td><td>7141106   </td><td>1073      </td><td> 6655.271 </td></tr>\n",
       "\t<tr><td>Gaza Strip</td><td>1869055   </td><td> 360      </td><td> 5191.819 </td></tr>\n",
       "\t<tr><td>Gibraltar </td><td>  29258   </td><td>   6      </td><td> 4876.333 </td></tr>\n",
       "\t<tr><td>Bahrain   </td><td>1346613   </td><td> 760      </td><td> 1771.859 </td></tr>\n",
       "\t<tr><td>Maldives  </td><td> 393253   </td><td> 298      </td><td> 1319.641 </td></tr>\n",
       "\t<tr><td>Malta     </td><td> 413965   </td><td> 316      </td><td> 1310.016 </td></tr>\n",
       "\t<tr><td>Bermuda   </td><td>  70196   </td><td>  54      </td><td> 1299.926 </td></tr>\n",
       "</tbody>\n",
       "</table>\n"
      ],
      "text/latex": [
       "\\begin{tabular}{r|llll}\n",
       " name & population & area\\_land & popdensity\\\\\n",
       "\\hline\n",
       "\t Macau      &  592731    &   28       & 21168.964 \\\\\n",
       "\t Monaco     &   30535    &    2       & 15267.500 \\\\\n",
       "\t Singapore  & 5674472    &  687       &  8259.785 \\\\\n",
       "\t Hong Kong  & 7141106    & 1073       &  6655.271 \\\\\n",
       "\t Gaza Strip & 1869055    &  360       &  5191.819 \\\\\n",
       "\t Gibraltar  &   29258    &    6       &  4876.333 \\\\\n",
       "\t Bahrain    & 1346613    &  760       &  1771.859 \\\\\n",
       "\t Maldives   &  393253    &  298       &  1319.641 \\\\\n",
       "\t Malta      &  413965    &  316       &  1310.016 \\\\\n",
       "\t Bermuda    &   70196    &   54       &  1299.926 \\\\\n",
       "\\end{tabular}\n"
      ],
      "text/markdown": [
       "\n",
       "| name | population | area_land | popdensity |\n",
       "|---|---|---|---|\n",
       "| Macau      |  592731    |   28       | 21168.964  |\n",
       "| Monaco     |   30535    |    2       | 15267.500  |\n",
       "| Singapore  | 5674472    |  687       |  8259.785  |\n",
       "| Hong Kong  | 7141106    | 1073       |  6655.271  |\n",
       "| Gaza Strip | 1869055    |  360       |  5191.819  |\n",
       "| Gibraltar  |   29258    |    6       |  4876.333  |\n",
       "| Bahrain    | 1346613    |  760       |  1771.859  |\n",
       "| Maldives   |  393253    |  298       |  1319.641  |\n",
       "| Malta      |  413965    |  316       |  1310.016  |\n",
       "| Bermuda    |   70196    |   54       |  1299.926  |\n",
       "\n"
      ],
      "text/plain": [
       "   name       population area_land popdensity\n",
       "1  Macau       592731      28      21168.964 \n",
       "2  Monaco       30535       2      15267.500 \n",
       "3  Singapore  5674472     687       8259.785 \n",
       "4  Hong Kong  7141106    1073       6655.271 \n",
       "5  Gaza Strip 1869055     360       5191.819 \n",
       "6  Gibraltar    29258       6       4876.333 \n",
       "7  Bahrain    1346613     760       1771.859 \n",
       "8  Maldives    393253     298       1319.641 \n",
       "9  Malta       413965     316       1310.016 \n",
       "10 Bermuda      70196      54       1299.926 "
      ]
     },
     "metadata": {},
     "output_type": "display_data"
    }
   ],
   "source": [
    "pop_density <- result4 %>% filter(area_land != 0) %>% mutate(popdensity = population/area_land) \n",
    "%>% arrange(desc(popdensity)) %>% select(name, population, area_land, popdensity)\n",
    "\n",
    "head(pop_density, 10)"
   ]
  },
  {
   "cell_type": "markdown",
   "metadata": {},
   "source": [
    "We see from comparing the tibble above to the wikipedia page linked [here](https://simple.wikipedia.org/wiki/List_of_countries_and_dependencies_by_population_density), that as of July 2019, the table above mostly contains the same countries, in more or less (but not quite exactly) the same order as the table in the wikipedia page. \n",
    "\n",
    "The main difference that stands out is that the 'Gaza Strip is listed' as a country above, whereas it was not in the Wiki page."
   ]
  }
 ],
 "metadata": {
  "kernelspec": {
   "display_name": "R",
   "language": "R",
   "name": "ir"
  },
  "language_info": {
   "codemirror_mode": "r",
   "file_extension": ".r",
   "mimetype": "text/x-r-source",
   "name": "R",
   "pygments_lexer": "r",
   "version": "3.6.0"
  }
 },
 "nbformat": 4,
 "nbformat_minor": 2
}
