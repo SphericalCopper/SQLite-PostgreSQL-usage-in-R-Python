{
 "cells": [
  {
   "cell_type": "markdown",
   "metadata": {},
   "source": [
    "# Designing and Creating a Database\n",
    "\n",
    "The goal of this project is to meticulously design and create a database, through a process that will involve:\n",
    "\n",
    "1. Importing Data into SQL\n",
    "2. Designing a normalized Database Schema\n",
    "3. Creating Tables for our Schema\n",
    "4. Inserting Data into our Schema\n",
    "\n",
    "We will work with data from Major League Baseball games compiled by [Retrosheet](https://www.retrosheet.org/). The main file we will work from is `game_log.csv`, which has been compiled and pre-cleaned from 127 separate CSV files by Retrosheet. This file has hundreds of data points on each game. \n",
    "\n",
    "What we want to do is to convert and normalize this data into several separate tables using SQL, and create a robust database of game-level statistics. \n",
    "\n",
    "In addition to the main `game_log.csv` file, we also have the following 3 helper files:\n",
    "\n",
    "- `park_codes.csv`\n",
    "- `person_codes.csv`\n",
    "- `team_codes.csv`\n",
    "\n",
    "These 3 helper files will form the basis for 3 of our normalized tables.\n",
    "\n",
    "We'll start by importing some of the libraries we'll need, and then reading in the csv files.\n",
    "\n",
    "## Reading in the files"
   ]
  },
  {
   "cell_type": "code",
   "execution_count": 1,
   "metadata": {},
   "outputs": [
    {
     "name": "stderr",
     "output_type": "stream",
     "text": [
      "Registered S3 method overwritten by 'rvest':\n",
      "  method            from\n",
      "  read_xml.response xml2\n",
      "-- Attaching packages --------------------------------------- tidyverse 1.2.1 --\n",
      "v ggplot2 3.2.0     v purrr   0.3.2\n",
      "v tibble  2.1.3     v dplyr   0.8.3\n",
      "v tidyr   0.8.3     v stringr 1.4.0\n",
      "v readr   1.3.1     v forcats 0.4.0\n",
      "Warning message:\n",
      "\"package 'dplyr' was built under R version 3.6.1\"-- Conflicts ------------------------------------------ tidyverse_conflicts() --\n",
      "x dplyr::filter() masks stats::filter()\n",
      "x dplyr::lag()    masks stats::lag()\n",
      "Warning message:\n",
      "\"package 'RSQLite' was built under R version 3.6.1\""
     ]
    }
   ],
   "source": [
    "library(tidyverse)\n",
    "library(RSQLite)\n",
    "library(DBI)"
   ]
  },
  {
   "cell_type": "code",
   "execution_count": 2,
   "metadata": {},
   "outputs": [
    {
     "data": {
      "text/html": [
       "<table>\n",
       "<thead><tr><th scope=col>date</th><th scope=col>number_of_game</th><th scope=col>day_of_week</th><th scope=col>v_name</th><th scope=col>v_league</th><th scope=col>v_game_number</th><th scope=col>h_name</th><th scope=col>h_league</th><th scope=col>h_game_number</th><th scope=col>v_score</th><th scope=col>...</th><th scope=col>h_player_7_name</th><th scope=col>h_player_7_def_pos</th><th scope=col>h_player_8_id</th><th scope=col>h_player_8_name</th><th scope=col>h_player_8_def_pos</th><th scope=col>h_player_9_id</th><th scope=col>h_player_9_name</th><th scope=col>h_player_9_def_pos</th><th scope=col>additional_info</th><th scope=col>acquisition_info</th></tr></thead>\n",
       "<tbody>\n",
       "\t<tr><td>18710504       </td><td>0              </td><td>Thu            </td><td>CL1            </td><td>NA             </td><td>1              </td><td>FW1            </td><td>NA             </td><td>1              </td><td>0              </td><td>...            </td><td>Ed Mincher     </td><td>7              </td><td>mcdej101       </td><td>James McDermott</td><td>8              </td><td>kellb105       </td><td>Bill Kelly     </td><td>9              </td><td>NA             </td><td>Y              </td></tr>\n",
       "\t<tr><td>18710505       </td><td>0              </td><td>Fri            </td><td>BS1            </td><td>NA             </td><td>1              </td><td>WS3            </td><td>NA             </td><td>1              </td><td>20             </td><td>...            </td><td>Asa Brainard   </td><td>1              </td><td>burrh101       </td><td>Henry Burroughs</td><td>9              </td><td>berth101       </td><td>Henry Berthrong</td><td>8              </td><td>HTBF           </td><td>Y              </td></tr>\n",
       "\t<tr><td>18710506       </td><td>0              </td><td>Sat            </td><td>CL1            </td><td>NA             </td><td>2              </td><td>RC1            </td><td>NA             </td><td>1              </td><td>12             </td><td>...            </td><td>Pony Sager     </td><td>6              </td><td>birdg101       </td><td>George Bird    </td><td>7              </td><td>stirg101       </td><td>Gat Stires     </td><td>9              </td><td>NA             </td><td>Y              </td></tr>\n",
       "\t<tr><td>18710508       </td><td>0              </td><td>Mon            </td><td>CL1            </td><td>NA             </td><td>3              </td><td>CH1            </td><td>NA             </td><td>1              </td><td>12             </td><td>...            </td><td>Ed Duffy       </td><td>6              </td><td>pinke101       </td><td>Ed Pinkham     </td><td>5              </td><td>zettg101       </td><td>George Zettlein</td><td>1              </td><td>NA             </td><td>Y              </td></tr>\n",
       "\t<tr><td>18710509       </td><td>0              </td><td>Tue            </td><td>BS1            </td><td>NA             </td><td>2              </td><td>TRO            </td><td>NA             </td><td>1              </td><td>9              </td><td>...            </td><td>Steve Bellan   </td><td>5              </td><td>pikel101       </td><td>Lip Pike       </td><td>3              </td><td>cravb101       </td><td>Bill Craver    </td><td>6              </td><td>HTBF           </td><td>Y              </td></tr>\n",
       "\t<tr><td>18710511       </td><td>0              </td><td>Thu            </td><td>CH1            </td><td>NA             </td><td>2              </td><td>CL1            </td><td>NA             </td><td>4              </td><td>18             </td><td>...            </td><td>Ezra Sutton    </td><td>5              </td><td>carlj102       </td><td>Jim Carleton   </td><td>3              </td><td>bassj101       </td><td>John Bass      </td><td>6              </td><td>NA             </td><td>Y              </td></tr>\n",
       "</tbody>\n",
       "</table>\n"
      ],
      "text/latex": [
       "\\begin{tabular}{r|lllllllllllllllllllllllllllllllllllllllllllllllllllllllllllllllllllllllllllllllllllllllllllllllllllllllllllllllllllllllllllllllllllllllllllllllllllllllllllllllll}\n",
       " date & number\\_of\\_game & day\\_of\\_week & v\\_name & v\\_league & v\\_game\\_number & h\\_name & h\\_league & h\\_game\\_number & v\\_score & ... & h\\_player\\_7\\_name & h\\_player\\_7\\_def\\_pos & h\\_player\\_8\\_id & h\\_player\\_8\\_name & h\\_player\\_8\\_def\\_pos & h\\_player\\_9\\_id & h\\_player\\_9\\_name & h\\_player\\_9\\_def\\_pos & additional\\_info & acquisition\\_info\\\\\n",
       "\\hline\n",
       "\t 18710504        & 0               & Thu             & CL1             & NA              & 1               & FW1             & NA              & 1               & 0               & ...             & Ed Mincher      & 7               & mcdej101        & James McDermott & 8               & kellb105        & Bill Kelly      & 9               & NA              & Y              \\\\\n",
       "\t 18710505        & 0               & Fri             & BS1             & NA              & 1               & WS3             & NA              & 1               & 20              & ...             & Asa Brainard    & 1               & burrh101        & Henry Burroughs & 9               & berth101        & Henry Berthrong & 8               & HTBF            & Y              \\\\\n",
       "\t 18710506        & 0               & Sat             & CL1             & NA              & 2               & RC1             & NA              & 1               & 12              & ...             & Pony Sager      & 6               & birdg101        & George Bird     & 7               & stirg101        & Gat Stires      & 9               & NA              & Y              \\\\\n",
       "\t 18710508        & 0               & Mon             & CL1             & NA              & 3               & CH1             & NA              & 1               & 12              & ...             & Ed Duffy        & 6               & pinke101        & Ed Pinkham      & 5               & zettg101        & George Zettlein & 1               & NA              & Y              \\\\\n",
       "\t 18710509        & 0               & Tue             & BS1             & NA              & 2               & TRO             & NA              & 1               & 9               & ...             & Steve Bellan    & 5               & pikel101        & Lip Pike        & 3               & cravb101        & Bill Craver     & 6               & HTBF            & Y              \\\\\n",
       "\t 18710511        & 0               & Thu             & CH1             & NA              & 2               & CL1             & NA              & 4               & 18              & ...             & Ezra Sutton     & 5               & carlj102        & Jim Carleton    & 3               & bassj101        & John Bass       & 6               & NA              & Y              \\\\\n",
       "\\end{tabular}\n"
      ],
      "text/markdown": [
       "\n",
       "| date | number_of_game | day_of_week | v_name | v_league | v_game_number | h_name | h_league | h_game_number | v_score | ... | h_player_7_name | h_player_7_def_pos | h_player_8_id | h_player_8_name | h_player_8_def_pos | h_player_9_id | h_player_9_name | h_player_9_def_pos | additional_info | acquisition_info |\n",
       "|---|---|---|---|---|---|---|---|---|---|---|---|---|---|---|---|---|---|---|---|---|\n",
       "| 18710504        | 0               | Thu             | CL1             | NA              | 1               | FW1             | NA              | 1               | 0               | ...             | Ed Mincher      | 7               | mcdej101        | James McDermott | 8               | kellb105        | Bill Kelly      | 9               | NA              | Y               |\n",
       "| 18710505        | 0               | Fri             | BS1             | NA              | 1               | WS3             | NA              | 1               | 20              | ...             | Asa Brainard    | 1               | burrh101        | Henry Burroughs | 9               | berth101        | Henry Berthrong | 8               | HTBF            | Y               |\n",
       "| 18710506        | 0               | Sat             | CL1             | NA              | 2               | RC1             | NA              | 1               | 12              | ...             | Pony Sager      | 6               | birdg101        | George Bird     | 7               | stirg101        | Gat Stires      | 9               | NA              | Y               |\n",
       "| 18710508        | 0               | Mon             | CL1             | NA              | 3               | CH1             | NA              | 1               | 12              | ...             | Ed Duffy        | 6               | pinke101        | Ed Pinkham      | 5               | zettg101        | George Zettlein | 1               | NA              | Y               |\n",
       "| 18710509        | 0               | Tue             | BS1             | NA              | 2               | TRO             | NA              | 1               | 9               | ...             | Steve Bellan    | 5               | pikel101        | Lip Pike        | 3               | cravb101        | Bill Craver     | 6               | HTBF            | Y               |\n",
       "| 18710511        | 0               | Thu             | CH1             | NA              | 2               | CL1             | NA              | 4               | 18              | ...             | Ezra Sutton     | 5               | carlj102        | Jim Carleton    | 3               | bassj101        | John Bass       | 6               | NA              | Y               |\n",
       "\n"
      ],
      "text/plain": [
       "  date     number_of_game day_of_week v_name v_league v_game_number h_name\n",
       "1 18710504 0              Thu         CL1    NA       1             FW1   \n",
       "2 18710505 0              Fri         BS1    NA       1             WS3   \n",
       "3 18710506 0              Sat         CL1    NA       2             RC1   \n",
       "4 18710508 0              Mon         CL1    NA       3             CH1   \n",
       "5 18710509 0              Tue         BS1    NA       2             TRO   \n",
       "6 18710511 0              Thu         CH1    NA       2             CL1   \n",
       "  h_league h_game_number v_score ... h_player_7_name h_player_7_def_pos\n",
       "1 NA       1             0       ... Ed Mincher      7                 \n",
       "2 NA       1             20      ... Asa Brainard    1                 \n",
       "3 NA       1             12      ... Pony Sager      6                 \n",
       "4 NA       1             12      ... Ed Duffy        6                 \n",
       "5 NA       1             9       ... Steve Bellan    5                 \n",
       "6 NA       4             18      ... Ezra Sutton     5                 \n",
       "  h_player_8_id h_player_8_name h_player_8_def_pos h_player_9_id\n",
       "1 mcdej101      James McDermott 8                  kellb105     \n",
       "2 burrh101      Henry Burroughs 9                  berth101     \n",
       "3 birdg101      George Bird     7                  stirg101     \n",
       "4 pinke101      Ed Pinkham      5                  zettg101     \n",
       "5 pikel101      Lip Pike        3                  cravb101     \n",
       "6 carlj102      Jim Carleton    3                  bassj101     \n",
       "  h_player_9_name h_player_9_def_pos additional_info acquisition_info\n",
       "1 Bill Kelly      9                  NA              Y               \n",
       "2 Henry Berthrong 8                  HTBF            Y               \n",
       "3 Gat Stires      9                  NA              Y               \n",
       "4 George Zettlein 1                  NA              Y               \n",
       "5 Bill Craver     6                  HTBF            Y               \n",
       "6 John Bass       6                  NA              Y               "
      ]
     },
     "metadata": {},
     "output_type": "display_data"
    },
    {
     "name": "stdout",
     "output_type": "stream",
     "text": [
      "[1] 171907    161\n"
     ]
    }
   ],
   "source": [
    "# Since R has some trouble guessing certain column names, we'll explicitly tell \n",
    "# it the column type in the columns where there is a problem. \n",
    "\n",
    "log <- read_csv(\"game_log.csv\", \n",
    "                col_types = cols(.default = \"c\",\n",
    "                 v_league = \"c\", h_league = \"c\",\n",
    "                 `3b_umpire_id` = \"c\", `3b_umpire_name` = \"c\",\n",
    "                 `2b_umpire_id` = \"c\", `2b_umpire_name` = \"c\",\n",
    "                 `lf_umpire_id` = \"c\", `lf_umpire_name` = \"c\",\n",
    "                 `rf_umpire_id` = \"c\", `rf_umpire_name` = \"c\",\n",
    "                 completion = \"c\", winning_rbi_batter_id = \"c\",\n",
    "                 winning_rbi_batter_id_name = \"c\", protest = \"c\",\n",
    "                 v_first_catcher_interference = \"c\", \n",
    "                 h_first_catcher_interference = \"c\"))\n",
    "\n",
    "head(log)\n",
    "\n",
    "print(dim(log))"
   ]
  },
  {
   "cell_type": "markdown",
   "metadata": {},
   "source": [
    "The game log has a record of over 170,000 games, represented by the rows. It looks like these games are chronologically ordered by the very first column that denotes date, `date`, in a \"YYYYMMDD\" format. The games occur between 1871 and 2016.\n",
    "\n",
    "For each game we have:\n",
    "\n",
    "* general information on the game\n",
    "* team level stats for each team\n",
    "* a list of players from each team, numbered, with their defensive positions\n",
    "* the umpires that officiated the game\n",
    "* some 'awards', like winning and losing pitcher\n",
    "\n",
    "We have a `game_log_fields.txt` file that tells us that the player number corresponds with the order in which they batted.\n",
    "\n",
    "It's also worth noting that there is no natural primary key column for this table."
   ]
  },
  {
   "cell_type": "code",
   "execution_count": 3,
   "metadata": {},
   "outputs": [
    {
     "name": "stderr",
     "output_type": "stream",
     "text": [
      "Parsed with column specification:\n",
      "cols(\n",
      "  id = col_character(),\n",
      "  last = col_character(),\n",
      "  first = col_character(),\n",
      "  player_debut = col_character(),\n",
      "  mgr_debut = col_character(),\n",
      "  coach_debut = col_character(),\n",
      "  ump_debut = col_character()\n",
      ")\n"
     ]
    },
    {
     "data": {
      "text/html": [
       "<table>\n",
       "<thead><tr><th scope=col>id</th><th scope=col>last</th><th scope=col>first</th><th scope=col>player_debut</th><th scope=col>mgr_debut</th><th scope=col>coach_debut</th><th scope=col>ump_debut</th></tr></thead>\n",
       "<tbody>\n",
       "\t<tr><td>aardd001  </td><td>Aardsma   </td><td>David     </td><td>04/06/2004</td><td>NA        </td><td>NA        </td><td>NA        </td></tr>\n",
       "\t<tr><td>aaroh101  </td><td>Aaron     </td><td>Hank      </td><td>04/13/1954</td><td>NA        </td><td>NA        </td><td>NA        </td></tr>\n",
       "\t<tr><td>aarot101  </td><td>Aaron     </td><td>Tommie    </td><td>04/10/1962</td><td>NA        </td><td>04/06/1979</td><td>NA        </td></tr>\n",
       "\t<tr><td>aased001  </td><td>Aase      </td><td>Don       </td><td>07/26/1977</td><td>NA        </td><td>NA        </td><td>NA        </td></tr>\n",
       "\t<tr><td>abada001  </td><td>Abad      </td><td>Andy      </td><td>09/10/2001</td><td>NA        </td><td>NA        </td><td>NA        </td></tr>\n",
       "\t<tr><td>abadf001  </td><td>Abad      </td><td>Fernando  </td><td>07/28/2010</td><td>NA        </td><td>NA        </td><td>NA        </td></tr>\n",
       "</tbody>\n",
       "</table>\n"
      ],
      "text/latex": [
       "\\begin{tabular}{r|lllllll}\n",
       " id & last & first & player\\_debut & mgr\\_debut & coach\\_debut & ump\\_debut\\\\\n",
       "\\hline\n",
       "\t aardd001   & Aardsma    & David      & 04/06/2004 & NA         & NA         & NA        \\\\\n",
       "\t aaroh101   & Aaron      & Hank       & 04/13/1954 & NA         & NA         & NA        \\\\\n",
       "\t aarot101   & Aaron      & Tommie     & 04/10/1962 & NA         & 04/06/1979 & NA        \\\\\n",
       "\t aased001   & Aase       & Don        & 07/26/1977 & NA         & NA         & NA        \\\\\n",
       "\t abada001   & Abad       & Andy       & 09/10/2001 & NA         & NA         & NA        \\\\\n",
       "\t abadf001   & Abad       & Fernando   & 07/28/2010 & NA         & NA         & NA        \\\\\n",
       "\\end{tabular}\n"
      ],
      "text/markdown": [
       "\n",
       "| id | last | first | player_debut | mgr_debut | coach_debut | ump_debut |\n",
       "|---|---|---|---|---|---|---|\n",
       "| aardd001   | Aardsma    | David      | 04/06/2004 | NA         | NA         | NA         |\n",
       "| aaroh101   | Aaron      | Hank       | 04/13/1954 | NA         | NA         | NA         |\n",
       "| aarot101   | Aaron      | Tommie     | 04/10/1962 | NA         | 04/06/1979 | NA         |\n",
       "| aased001   | Aase       | Don        | 07/26/1977 | NA         | NA         | NA         |\n",
       "| abada001   | Abad       | Andy       | 09/10/2001 | NA         | NA         | NA         |\n",
       "| abadf001   | Abad       | Fernando   | 07/28/2010 | NA         | NA         | NA         |\n",
       "\n"
      ],
      "text/plain": [
       "  id       last    first    player_debut mgr_debut coach_debut ump_debut\n",
       "1 aardd001 Aardsma David    04/06/2004   NA        NA          NA       \n",
       "2 aaroh101 Aaron   Hank     04/13/1954   NA        NA          NA       \n",
       "3 aarot101 Aaron   Tommie   04/10/1962   NA        04/06/1979  NA       \n",
       "4 aased001 Aase    Don      07/26/1977   NA        NA          NA       \n",
       "5 abada001 Abad    Andy     09/10/2001   NA        NA          NA       \n",
       "6 abadf001 Abad    Fernando 07/28/2010   NA        NA          NA       "
      ]
     },
     "metadata": {},
     "output_type": "display_data"
    },
    {
     "data": {
      "text/html": [
       "<ol class=list-inline>\n",
       "\t<li>20494</li>\n",
       "\t<li>7</li>\n",
       "</ol>\n"
      ],
      "text/latex": [
       "\\begin{enumerate*}\n",
       "\\item 20494\n",
       "\\item 7\n",
       "\\end{enumerate*}\n"
      ],
      "text/markdown": [
       "1. 20494\n",
       "2. 7\n",
       "\n",
       "\n"
      ],
      "text/plain": [
       "[1] 20494     7"
      ]
     },
     "metadata": {},
     "output_type": "display_data"
    }
   ],
   "source": [
    "person <- read_csv(\"person_codes.csv\")\n",
    "\n",
    "head(person)\n",
    "\n",
    "dim(person)"
   ]
  },
  {
   "cell_type": "markdown",
   "metadata": {},
   "source": [
    "The `person` table looks to be a list of people with IDs. \n",
    "\n",
    "The IDs look like they match up with those used in the game log. There are debut dates, for players, managers, coaches and umpires. We can see that some people might have been one or more of these roles.\n",
    "\n",
    "It also looks like coaches and managers are two different things in baseball. After some research, managers are what would be called a 'coach' or 'head coach' in other sports, and coaches are more specialized, like base coaches. \n",
    "\n",
    "It also seems like coaches aren't recorded in the main `game_log.csv` file."
   ]
  },
  {
   "cell_type": "code",
   "execution_count": 4,
   "metadata": {},
   "outputs": [
    {
     "name": "stderr",
     "output_type": "stream",
     "text": [
      "Parsed with column specification:\n",
      "cols(\n",
      "  park_id = col_character(),\n",
      "  name = col_character(),\n",
      "  aka = col_character(),\n",
      "  city = col_character(),\n",
      "  state = col_character(),\n",
      "  start = col_character(),\n",
      "  end = col_character(),\n",
      "  league = col_character(),\n",
      "  notes = col_character()\n",
      ")\n"
     ]
    },
    {
     "data": {
      "text/html": [
       "<table>\n",
       "<thead><tr><th scope=col>park_id</th><th scope=col>name</th><th scope=col>aka</th><th scope=col>city</th><th scope=col>state</th><th scope=col>start</th><th scope=col>end</th><th scope=col>league</th><th scope=col>notes</th></tr></thead>\n",
       "<tbody>\n",
       "\t<tr><td>ALB01                                                                           </td><td><span style=white-space:pre-wrap>Riverside Park               </span>           </td><td><span style=white-space:pre-wrap>NA                                      </span></td><td><span style=white-space:pre-wrap>Albany   </span>                               </td><td>NY                                                                              </td><td>09/11/1880                                                                      </td><td>05/30/1882                                                                      </td><td>NL                                                                              </td><td>TRN:9/11/80;6/15&amp;9/10/1881;5/16-5/18&amp;5/30/1882                          </td></tr>\n",
       "\t<tr><td>ALT01                                         </td><td>Columbia Park                                 </td><td>NA                                            </td><td>Altoona                                       </td><td>PA                                            </td><td>04/30/1884                                    </td><td>05/31/1884                                    </td><td>UA                                            </td><td>NA                                            </td></tr>\n",
       "\t<tr><td>ANA01                                         </td><td>Angel Stadium of Anaheim                      </td><td>Edison Field; Anaheim Stadium                 </td><td>Anaheim                                       </td><td>CA                                            </td><td>04/19/1966                                    </td><td>NA                                            </td><td>AL                                            </td><td>NA                                            </td></tr>\n",
       "\t<tr><td>ARL01                                         </td><td>Arlington Stadium                             </td><td>NA                                            </td><td>Arlington                                     </td><td>TX                                            </td><td>04/21/1972                                    </td><td>10/03/1993                                    </td><td>AL                                            </td><td>NA                                            </td></tr>\n",
       "\t<tr><td>ARL02                                         </td><td>Rangers Ballpark in Arlington                 </td><td>The Ballpark in Arlington; Ameriquest Fl      </td><td>Arlington                                     </td><td>TX                                            </td><td>04/11/1994                                    </td><td>NA                                            </td><td>AL                                            </td><td>NA                                            </td></tr>\n",
       "\t<tr><td>ATL01                                         </td><td>Atlanta-Fulton County Stadium                 </td><td>NA                                            </td><td>Atlanta                                       </td><td>GA                                            </td><td>04/12/1966                                    </td><td>09/23/1996                                    </td><td>NL                                            </td><td>NA                                            </td></tr>\n",
       "</tbody>\n",
       "</table>\n"
      ],
      "text/latex": [
       "\\begin{tabular}{r|lllllllll}\n",
       " park\\_id & name & aka & city & state & start & end & league & notes\\\\\n",
       "\\hline\n",
       "\t ALB01                                              & Riverside Park                                     & NA                                                 & Albany                                             & NY                                                 & 09/11/1880                                         & 05/30/1882                                         & NL                                                 & TRN:9/11/80;6/15\\&9/10/1881;5/16-5/18\\&5/30/1882\\\\\n",
       "\t ALT01                                          & Columbia Park                                  & NA                                             & Altoona                                        & PA                                             & 04/30/1884                                     & 05/31/1884                                     & UA                                             & NA                                            \\\\\n",
       "\t ANA01                                          & Angel Stadium of Anaheim                       & Edison Field; Anaheim Stadium                  & Anaheim                                        & CA                                             & 04/19/1966                                     & NA                                             & AL                                             & NA                                            \\\\\n",
       "\t ARL01                                          & Arlington Stadium                              & NA                                             & Arlington                                      & TX                                             & 04/21/1972                                     & 10/03/1993                                     & AL                                             & NA                                            \\\\\n",
       "\t ARL02                                          & Rangers Ballpark in Arlington                  & The Ballpark in Arlington; Ameriquest Fl       & Arlington                                      & TX                                             & 04/11/1994                                     & NA                                             & AL                                             & NA                                            \\\\\n",
       "\t ATL01                                          & Atlanta-Fulton County Stadium                  & NA                                             & Atlanta                                        & GA                                             & 04/12/1966                                     & 09/23/1996                                     & NL                                             & NA                                            \\\\\n",
       "\\end{tabular}\n"
      ],
      "text/markdown": [
       "\n",
       "| park_id | name | aka | city | state | start | end | league | notes |\n",
       "|---|---|---|---|---|---|---|---|---|\n",
       "| ALB01                                          | Riverside Park                                 | NA                                             | Albany                                         | NY                                             | 09/11/1880                                     | 05/30/1882                                     | NL                                             | TRN:9/11/80;6/15&9/10/1881;5/16-5/18&5/30/1882 |\n",
       "| ALT01                                          | Columbia Park                                  | NA                                             | Altoona                                        | PA                                             | 04/30/1884                                     | 05/31/1884                                     | UA                                             | NA                                             |\n",
       "| ANA01                                          | Angel Stadium of Anaheim                       | Edison Field; Anaheim Stadium                  | Anaheim                                        | CA                                             | 04/19/1966                                     | NA                                             | AL                                             | NA                                             |\n",
       "| ARL01                                          | Arlington Stadium                              | NA                                             | Arlington                                      | TX                                             | 04/21/1972                                     | 10/03/1993                                     | AL                                             | NA                                             |\n",
       "| ARL02                                          | Rangers Ballpark in Arlington                  | The Ballpark in Arlington; Ameriquest Fl       | Arlington                                      | TX                                             | 04/11/1994                                     | NA                                             | AL                                             | NA                                             |\n",
       "| ATL01                                          | Atlanta-Fulton County Stadium                  | NA                                             | Atlanta                                        | GA                                             | 04/12/1966                                     | 09/23/1996                                     | NL                                             | NA                                             |\n",
       "\n"
      ],
      "text/plain": [
       "  park_id name                         \n",
       "1 ALB01   Riverside Park               \n",
       "2 ALT01   Columbia Park                \n",
       "3 ANA01   Angel Stadium of Anaheim     \n",
       "4 ARL01   Arlington Stadium            \n",
       "5 ARL02   Rangers Ballpark in Arlington\n",
       "6 ATL01   Atlanta-Fulton County Stadium\n",
       "  aka                                      city      state start     \n",
       "1 NA                                       Albany    NY    09/11/1880\n",
       "2 NA                                       Altoona   PA    04/30/1884\n",
       "3 Edison Field; Anaheim Stadium            Anaheim   CA    04/19/1966\n",
       "4 NA                                       Arlington TX    04/21/1972\n",
       "5 The Ballpark in Arlington; Ameriquest Fl Arlington TX    04/11/1994\n",
       "6 NA                                       Atlanta   GA    04/12/1966\n",
       "  end        league notes                                         \n",
       "1 05/30/1882 NL     TRN:9/11/80;6/15&9/10/1881;5/16-5/18&5/30/1882\n",
       "2 05/31/1884 UA     NA                                            \n",
       "3 NA         AL     NA                                            \n",
       "4 10/03/1993 AL     NA                                            \n",
       "5 NA         AL     NA                                            \n",
       "6 09/23/1996 NL     NA                                            "
      ]
     },
     "metadata": {},
     "output_type": "display_data"
    },
    {
     "data": {
      "text/html": [
       "<ol class=list-inline>\n",
       "\t<li>252</li>\n",
       "\t<li>9</li>\n",
       "</ol>\n"
      ],
      "text/latex": [
       "\\begin{enumerate*}\n",
       "\\item 252\n",
       "\\item 9\n",
       "\\end{enumerate*}\n"
      ],
      "text/markdown": [
       "1. 252\n",
       "2. 9\n",
       "\n",
       "\n"
      ],
      "text/plain": [
       "[1] 252   9"
      ]
     },
     "metadata": {},
     "output_type": "display_data"
    }
   ],
   "source": [
    "park <- read_csv(\"park_codes.csv\")\n",
    "\n",
    "head(park)\n",
    "\n",
    "dim(park)"
   ]
  },
  {
   "cell_type": "markdown",
   "metadata": {},
   "source": [
    "This `park` table is a list of all baseball parks, and includes main names (as well as other name variants). There are IDs which seem to match with the game log, as well as names, nicknames, city and league."
   ]
  },
  {
   "cell_type": "code",
   "execution_count": 5,
   "metadata": {},
   "outputs": [
    {
     "name": "stderr",
     "output_type": "stream",
     "text": [
      "Parsed with column specification:\n",
      "cols(\n",
      "  team_id = col_character(),\n",
      "  league = col_character(),\n",
      "  start = col_double(),\n",
      "  end = col_double(),\n",
      "  city = col_character(),\n",
      "  nickname = col_character(),\n",
      "  franch_id = col_character(),\n",
      "  seq = col_double()\n",
      ")\n"
     ]
    },
    {
     "data": {
      "text/html": [
       "<table>\n",
       "<thead><tr><th scope=col>team_id</th><th scope=col>league</th><th scope=col>start</th><th scope=col>end</th><th scope=col>city</th><th scope=col>nickname</th><th scope=col>franch_id</th><th scope=col>seq</th></tr></thead>\n",
       "<tbody>\n",
       "\t<tr><td>ALT            </td><td>UA             </td><td>1884           </td><td>1884           </td><td>Altoona        </td><td>Mountain Cities</td><td>ALT            </td><td>1              </td></tr>\n",
       "\t<tr><td>ARI            </td><td>NL             </td><td>1998           </td><td>   0           </td><td>Arizona        </td><td>Diamondbacks   </td><td>ARI            </td><td>1              </td></tr>\n",
       "\t<tr><td>BFN            </td><td>NL             </td><td>1879           </td><td>1885           </td><td>Buffalo        </td><td>Bisons         </td><td>BFN            </td><td>1              </td></tr>\n",
       "\t<tr><td>BFP            </td><td>PL             </td><td>1890           </td><td>1890           </td><td>Buffalo        </td><td>Bisons         </td><td>BFP            </td><td>1              </td></tr>\n",
       "\t<tr><td>BL1            </td><td>NA             </td><td>1872           </td><td>1874           </td><td>Baltimore      </td><td>Canaries       </td><td>BL1            </td><td>1              </td></tr>\n",
       "\t<tr><td>BL2            </td><td>AA             </td><td>1882           </td><td>1891           </td><td>Baltimore      </td><td>Orioles        </td><td>BL2            </td><td>1              </td></tr>\n",
       "</tbody>\n",
       "</table>\n"
      ],
      "text/latex": [
       "\\begin{tabular}{r|llllllll}\n",
       " team\\_id & league & start & end & city & nickname & franch\\_id & seq\\\\\n",
       "\\hline\n",
       "\t ALT             & UA              & 1884            & 1884            & Altoona         & Mountain Cities & ALT             & 1              \\\\\n",
       "\t ARI             & NL              & 1998            &    0            & Arizona         & Diamondbacks    & ARI             & 1              \\\\\n",
       "\t BFN             & NL              & 1879            & 1885            & Buffalo         & Bisons          & BFN             & 1              \\\\\n",
       "\t BFP             & PL              & 1890            & 1890            & Buffalo         & Bisons          & BFP             & 1              \\\\\n",
       "\t BL1             & NA              & 1872            & 1874            & Baltimore       & Canaries        & BL1             & 1              \\\\\n",
       "\t BL2             & AA              & 1882            & 1891            & Baltimore       & Orioles         & BL2             & 1              \\\\\n",
       "\\end{tabular}\n"
      ],
      "text/markdown": [
       "\n",
       "| team_id | league | start | end | city | nickname | franch_id | seq |\n",
       "|---|---|---|---|---|---|---|---|\n",
       "| ALT             | UA              | 1884            | 1884            | Altoona         | Mountain Cities | ALT             | 1               |\n",
       "| ARI             | NL              | 1998            |    0            | Arizona         | Diamondbacks    | ARI             | 1               |\n",
       "| BFN             | NL              | 1879            | 1885            | Buffalo         | Bisons          | BFN             | 1               |\n",
       "| BFP             | PL              | 1890            | 1890            | Buffalo         | Bisons          | BFP             | 1               |\n",
       "| BL1             | NA              | 1872            | 1874            | Baltimore       | Canaries        | BL1             | 1               |\n",
       "| BL2             | AA              | 1882            | 1891            | Baltimore       | Orioles         | BL2             | 1               |\n",
       "\n"
      ],
      "text/plain": [
       "  team_id league start end  city      nickname        franch_id seq\n",
       "1 ALT     UA     1884  1884 Altoona   Mountain Cities ALT       1  \n",
       "2 ARI     NL     1998     0 Arizona   Diamondbacks    ARI       1  \n",
       "3 BFN     NL     1879  1885 Buffalo   Bisons          BFN       1  \n",
       "4 BFP     PL     1890  1890 Buffalo   Bisons          BFP       1  \n",
       "5 BL1     NA     1872  1874 Baltimore Canaries        BL1       1  \n",
       "6 BL2     AA     1882  1891 Baltimore Orioles         BL2       1  "
      ]
     },
     "metadata": {},
     "output_type": "display_data"
    },
    {
     "data": {
      "text/html": [
       "<ol class=list-inline>\n",
       "\t<li>150</li>\n",
       "\t<li>8</li>\n",
       "</ol>\n"
      ],
      "text/latex": [
       "\\begin{enumerate*}\n",
       "\\item 150\n",
       "\\item 8\n",
       "\\end{enumerate*}\n"
      ],
      "text/markdown": [
       "1. 150\n",
       "2. 8\n",
       "\n",
       "\n"
      ],
      "text/plain": [
       "[1] 150   8"
      ]
     },
     "metadata": {},
     "output_type": "display_data"
    }
   ],
   "source": [
    "team <- read_csv(\"team_codes.csv\")\n",
    "\n",
    "head(team)\n",
    "\n",
    "dim(team)"
   ]
  },
  {
   "cell_type": "markdown",
   "metadata": {},
   "source": [
    "The `team` table seems to be a list of all teams, with team_ids which seem to match the game log."
   ]
  },
  {
   "cell_type": "markdown",
   "metadata": {},
   "source": [
    "### Defensive Positions\n",
    "\n",
    "In the game log, each player has a defensive position listed, which seems to be a number between 1-10. This [article](http://probaseballinsider.com/baseball-instruction/baseball-basics/baseball-basics-positions/) gives us a list of names for each numbered position:\n",
    "\n",
    "* Pitcher\n",
    "* Catcher\n",
    "* 1st Base\n",
    "* 2nd Base\n",
    "* 3rd Base\n",
    "* Shortstop\n",
    "* Left Field\n",
    "* Center Field\n",
    "* Right Field\n",
    "\n",
    "The 10th position isn't included - it may be a way of describing a designated hitter that does not field. We will make this an 'Unknown Position'.\n",
    "\n",
    "### Leagues\n",
    "\n",
    "Wikipedia tells us there are currently two leagues - the American (AL) and National (NL). \n",
    "\n",
    "Upon further research, we see that there are actually 4 more in addition to those two:\n",
    "\n",
    "* NL: National League\n",
    "* AL: American League\n",
    "* AA: [American Association](https://en.wikipedia.org/wiki/American_Association_%2819th_century%29)\n",
    "* FL: [Federal League](https://en.wikipedia.org/wiki/Federal_League)\n",
    "* PL: [Players League](https://en.wikipedia.org/wiki/Players%27_League)\n",
    "* UA: [Union Association](https://en.wikipedia.org/wiki/Union_Association)\n",
    "\n",
    "It also looks like we have about 1000 games where the home team doesn't have a value for league."
   ]
  },
  {
   "cell_type": "markdown",
   "metadata": {},
   "source": [
    "## Importing Data into SQLite \n",
    "\n",
    "We'll use `dbWriteTable()` to create tables for each of our CSV files into a new SQLite database, `mlb.db`.\n",
    "\n",
    "The table name for each file will be the same as the CSV file name.\n",
    "\n",
    "We'll also create a new column in the `game_log` table called `game_id`. This new `game_id` column will be made via string concatenation as highlighted [here](https://www.retrosheet.org/eventfile.htm) in the retrosheet data dictionary:\n",
    "\n",
    "\"***id***: *Each game begins with a twelve character ID record which identifies the date, home team, and number of the game. For example, `ATL198304080` should be read as follows. The first three characters identify the home team (the Braves). The next four are the year (1983). The next two are the month (April) using the standard numeric notation, 04, followed by the day (08). The last digit indicates if this is a single game (0), first game (1) or second game (2) if more than one game is played during a day, usually a double header The id record starts the description of a game thus ending the description of the preceding game in the file*\"\n",
    "\n",
    "This new `game_id` column will serve as a unique column in the `game_log` table."
   ]
  },
  {
   "cell_type": "code",
   "execution_count": 6,
   "metadata": {},
   "outputs": [],
   "source": [
    "conn <- dbConnect(SQLite(), \"mlb.db\")\n",
    "\n",
    "dbWriteTable(conn = conn, name = \"game_log\", value = log, row.names = FALSE, header = TRUE)\n",
    "\n",
    "dbWriteTable(conn = conn, name = \"person_codes\", value = person, row.names = FALSE, header = TRUE)\n",
    "\n",
    "dbWriteTable(conn = conn, name = \"team_codes\", value = team, row.names = FALSE, header = TRUE)\n",
    "\n",
    "dbWriteTable(conn = conn, name = \"park_codes\", value = park, row.names = FALSE, header = TRUE)"
   ]
  },
  {
   "cell_type": "markdown",
   "metadata": {},
   "source": [
    "Let's confirm that all the tables are in, and with the correct names."
   ]
  },
  {
   "cell_type": "code",
   "execution_count": 7,
   "metadata": {},
   "outputs": [
    {
     "data": {
      "text/html": [
       "<ol class=list-inline>\n",
       "\t<li>'appearance_type'</li>\n",
       "\t<li>'game'</li>\n",
       "\t<li>'game_log'</li>\n",
       "\t<li>'league'</li>\n",
       "\t<li>'park'</li>\n",
       "\t<li>'park_codes'</li>\n",
       "\t<li>'person'</li>\n",
       "\t<li>'person_appearance'</li>\n",
       "\t<li>'person_codes'</li>\n",
       "\t<li>'team'</li>\n",
       "\t<li>'team_appearance'</li>\n",
       "\t<li>'team_codes'</li>\n",
       "</ol>\n"
      ],
      "text/latex": [
       "\\begin{enumerate*}\n",
       "\\item 'appearance\\_type'\n",
       "\\item 'game'\n",
       "\\item 'game\\_log'\n",
       "\\item 'league'\n",
       "\\item 'park'\n",
       "\\item 'park\\_codes'\n",
       "\\item 'person'\n",
       "\\item 'person\\_appearance'\n",
       "\\item 'person\\_codes'\n",
       "\\item 'team'\n",
       "\\item 'team\\_appearance'\n",
       "\\item 'team\\_codes'\n",
       "\\end{enumerate*}\n"
      ],
      "text/markdown": [
       "1. 'appearance_type'\n",
       "2. 'game'\n",
       "3. 'game_log'\n",
       "4. 'league'\n",
       "5. 'park'\n",
       "6. 'park_codes'\n",
       "7. 'person'\n",
       "8. 'person_appearance'\n",
       "9. 'person_codes'\n",
       "10. 'team'\n",
       "11. 'team_appearance'\n",
       "12. 'team_codes'\n",
       "\n",
       "\n"
      ],
      "text/plain": [
       " [1] \"appearance_type\"   \"game\"              \"game_log\"         \n",
       " [4] \"league\"            \"park\"              \"park_codes\"       \n",
       " [7] \"person\"            \"person_appearance\" \"person_codes\"     \n",
       "[10] \"team\"              \"team_appearance\"   \"team_codes\"       "
      ]
     },
     "metadata": {},
     "output_type": "display_data"
    }
   ],
   "source": [
    "dbListTables(conn)"
   ]
  },
  {
   "cell_type": "code",
   "execution_count": 8,
   "metadata": {},
   "outputs": [
    {
     "data": {
      "text/html": [
       "0"
      ],
      "text/latex": [
       "0"
      ],
      "text/markdown": [
       "0"
      ],
      "text/plain": [
       "[1] 0"
      ]
     },
     "metadata": {},
     "output_type": "display_data"
    }
   ],
   "source": [
    "game_id_col_add <-\"\n",
    "ALTER TABLE game_log\n",
    "ADD COLUMN game_id TEXT;\"\n",
    "\n",
    "dbExecute(conn, game_id_col_add)"
   ]
  },
  {
   "cell_type": "markdown",
   "metadata": {},
   "source": [
    "After having created the `game_id` column above, we'll now populate it with values using string concatenation:"
   ]
  },
  {
   "cell_type": "code",
   "execution_count": 9,
   "metadata": {},
   "outputs": [
    {
     "data": {
      "text/html": [
       "171907"
      ],
      "text/latex": [
       "171907"
      ],
      "text/markdown": [
       "171907"
      ],
      "text/plain": [
       "[1] 171907"
      ]
     },
     "metadata": {},
     "output_type": "display_data"
    }
   ],
   "source": [
    "game_log_fill <- \"\n",
    "UPDATE game_log\n",
    "SET game_id = date || h_name || number_of_game\n",
    "WHERE game_id IS NULL;\"\n",
    "\n",
    "dbExecute(conn, game_log_fill)"
   ]
  },
  {
   "cell_type": "code",
   "execution_count": 10,
   "metadata": {},
   "outputs": [
    {
     "data": {
      "text/html": [
       "<table>\n",
       "<thead><tr><th scope=col>game_id</th><th scope=col>date</th><th scope=col>h_name</th><th scope=col>number_of_game</th></tr></thead>\n",
       "<tbody>\n",
       "\t<tr><td>18710504FW10</td><td>18710504    </td><td>FW1         </td><td>0           </td></tr>\n",
       "\t<tr><td>18710505WS30</td><td>18710505    </td><td>WS3         </td><td>0           </td></tr>\n",
       "\t<tr><td>18710506RC10</td><td>18710506    </td><td>RC1         </td><td>0           </td></tr>\n",
       "\t<tr><td>18710508CH10</td><td>18710508    </td><td>CH1         </td><td>0           </td></tr>\n",
       "\t<tr><td>18710509TRO0</td><td>18710509    </td><td>TRO         </td><td>0           </td></tr>\n",
       "\t<tr><td>18710511CL10</td><td>18710511    </td><td>CL1         </td><td>0           </td></tr>\n",
       "\t<tr><td>18710513CL10</td><td>18710513    </td><td>CL1         </td><td>0           </td></tr>\n",
       "\t<tr><td>18710513FW10</td><td>18710513    </td><td>FW1         </td><td>0           </td></tr>\n",
       "\t<tr><td>18710515FW10</td><td>18710515    </td><td>FW1         </td><td>0           </td></tr>\n",
       "\t<tr><td>18710516BS10</td><td>18710516    </td><td>BS1         </td><td>0           </td></tr>\n",
       "</tbody>\n",
       "</table>\n"
      ],
      "text/latex": [
       "\\begin{tabular}{r|llll}\n",
       " game\\_id & date & h\\_name & number\\_of\\_game\\\\\n",
       "\\hline\n",
       "\t 18710504FW10 & 18710504     & FW1          & 0           \\\\\n",
       "\t 18710505WS30 & 18710505     & WS3          & 0           \\\\\n",
       "\t 18710506RC10 & 18710506     & RC1          & 0           \\\\\n",
       "\t 18710508CH10 & 18710508     & CH1          & 0           \\\\\n",
       "\t 18710509TRO0 & 18710509     & TRO          & 0           \\\\\n",
       "\t 18710511CL10 & 18710511     & CL1          & 0           \\\\\n",
       "\t 18710513CL10 & 18710513     & CL1          & 0           \\\\\n",
       "\t 18710513FW10 & 18710513     & FW1          & 0           \\\\\n",
       "\t 18710515FW10 & 18710515     & FW1          & 0           \\\\\n",
       "\t 18710516BS10 & 18710516     & BS1          & 0           \\\\\n",
       "\\end{tabular}\n"
      ],
      "text/markdown": [
       "\n",
       "| game_id | date | h_name | number_of_game |\n",
       "|---|---|---|---|\n",
       "| 18710504FW10 | 18710504     | FW1          | 0            |\n",
       "| 18710505WS30 | 18710505     | WS3          | 0            |\n",
       "| 18710506RC10 | 18710506     | RC1          | 0            |\n",
       "| 18710508CH10 | 18710508     | CH1          | 0            |\n",
       "| 18710509TRO0 | 18710509     | TRO          | 0            |\n",
       "| 18710511CL10 | 18710511     | CL1          | 0            |\n",
       "| 18710513CL10 | 18710513     | CL1          | 0            |\n",
       "| 18710513FW10 | 18710513     | FW1          | 0            |\n",
       "| 18710515FW10 | 18710515     | FW1          | 0            |\n",
       "| 18710516BS10 | 18710516     | BS1          | 0            |\n",
       "\n"
      ],
      "text/plain": [
       "   game_id      date     h_name number_of_game\n",
       "1  18710504FW10 18710504 FW1    0             \n",
       "2  18710505WS30 18710505 WS3    0             \n",
       "3  18710506RC10 18710506 RC1    0             \n",
       "4  18710508CH10 18710508 CH1    0             \n",
       "5  18710509TRO0 18710509 TRO    0             \n",
       "6  18710511CL10 18710511 CL1    0             \n",
       "7  18710513CL10 18710513 CL1    0             \n",
       "8  18710513FW10 18710513 FW1    0             \n",
       "9  18710515FW10 18710515 FW1    0             \n",
       "10 18710516BS10 18710516 BS1    0             "
      ]
     },
     "metadata": {},
     "output_type": "display_data"
    }
   ],
   "source": [
    "dbGetQuery(conn, \"SELECT game_id, date, h_name, number_of_game FROM game_log LIMIT 10\")"
   ]
  },
  {
   "cell_type": "markdown",
   "metadata": {},
   "source": [
    "Looking at a preview of the modifier game_log table above, we confirm that we constructed a `game_id` column in the format: \"date\" + \"home team name\" + \"number of game\", where date is given in YYYYMMDD format, home team name is a 3-character abbreviation, and number of game indicates the number of games played."
   ]
  },
  {
   "cell_type": "markdown",
   "metadata": {},
   "source": [
    "##  Normalization of Data\n",
    "\n",
    "Normalization helps us reduce redundancy and improve data integrity in our database.\n",
    "\n",
    "Some specific opportunities for normalization we should focus on are the following:\n",
    "\n",
    "* In `person_codes`, all the debut dates will be able to be reproduced using `game_log` data.\n",
    "* In `team_codes`, the start, end and sequence columns will be able to be reproduced using `game_log` data.\n",
    "* In `park_codes`, the start and end years will be able to be reproduced using `game_log` data. While technically the state is an attribute of the city, we might not want to have a an incomplete city/state table so we will leave this in.\n",
    "* There are lots of places in `game_log` where we have a player ID followed by the players name. We will be able to remove this and use the name data in person_codes\n",
    "* In `game_log`, all offensive and defensive stats are repeated for the home team and the visiting team. We could break these out and have a table that lists each game twice, one for each team, and cut out this column repetition.\n",
    "* Similarly, in `game_log`, we have a listing for 9 players on each team with their positions - we can remove these and have one table that tracks player appearances and their positions.\n",
    "* We can do a similar thing with the umpires from `game_log`, instead of listing all four positions as columns, we can put the umpires either in their own table or make one table for players, umpires and managers.\n",
    "* We have several awards in `game_log` like winning pitcher and losing pitcher. We can either break these out into their own table, have a table for awards, or combine the awards in with general appearances like the players and umpires."
   ]
  },
  {
   "cell_type": "markdown",
   "metadata": {},
   "source": [
    "### Schema designing\n",
    "\n",
    "With the above points in mind, the following schema was devised, using the free schema builder on [dbdesigner.net](https://www.dbdesigner.net/) to construct the schema. The tables will be divided as follows:\n",
    "\n",
    "![Schema](https://i.gyazo.com/869320f0dbe2516b3d465827733ad724.png)\n",
    "\n",
    "\n",
    "## Database Building\n",
    "\n",
    "### Creating tables without Foreign Key Relations\n",
    "\n",
    "We will start by creating the tables without foreign key relations. The tables we will thus create first are the following:\n",
    "\n",
    "- ***person***\n",
    "\n",
    "The 'debut' columns will be ommitted, since that information is repeated on other tables. Data on coaches is not included since the `game_log` file has no info on that data.\n",
    "\n",
    "- ***park***\n",
    "\n",
    "The columns found in the `game_log` file, primarily the 'start', 'end', and 'league' columns, will be removed.\n",
    "\n",
    "- ***league***\n",
    "\n",
    "Older leagues might not be as well-known as the current two leagues. For this reason we'll designate a table to storing all league names.\n",
    "\n",
    "- ***appearance_type***\n",
    "\n",
    "The appearance table will include data on players with positions, umpires, managers, and awards (like winning pitcher). It also will store information on what kind of appearances are available. \n",
    "\n",
    "The `person`, `park`, and `appearance_type` tables will be created by making an empty table, and then populating it with values by using queries, selecting current values from the `person_codes`, `park_codes`, and `appearance_type.csv` table. In the `league` table, the values will have to be manually specified. \n",
    "\n",
    "The `person` table will be created first:"
   ]
  },
  {
   "cell_type": "code",
   "execution_count": 11,
   "metadata": {},
   "outputs": [
    {
     "data": {
      "text/html": [
       "0"
      ],
      "text/latex": [
       "0"
      ],
      "text/markdown": [
       "0"
      ],
      "text/plain": [
       "[1] 0"
      ]
     },
     "metadata": {},
     "output_type": "display_data"
    },
    {
     "data": {
      "text/html": [
       "0"
      ],
      "text/latex": [
       "0"
      ],
      "text/markdown": [
       "0"
      ],
      "text/plain": [
       "[1] 0"
      ]
     },
     "metadata": {},
     "output_type": "display_data"
    }
   ],
   "source": [
    "create_person <- \"\n",
    "CREATE TABLE IF NOT EXISTS person (\n",
    "  person_id TEXT PRIMARY KEY,\n",
    "  first_name TEXT,\n",
    "  last_name TEXT\n",
    "  );\"\n",
    "  \n",
    "dbExecute(conn, create_person)\n",
    "\n",
    "populate_person <- \"\n",
    "INSERT OR IGNORE INTO person\n",
    "SELECT\n",
    "  id,\n",
    "  first,\n",
    "  last\n",
    "FROM person_codes;\"\n",
    "  \n",
    "dbExecute(conn, populate_person)"
   ]
  },
  {
   "cell_type": "markdown",
   "metadata": {},
   "source": [
    "Let's peview the `person` table we just made:"
   ]
  },
  {
   "cell_type": "code",
   "execution_count": 12,
   "metadata": {},
   "outputs": [
    {
     "data": {
      "text/html": [
       "<table>\n",
       "<thead><tr><th scope=col>person_id</th><th scope=col>first_name</th><th scope=col>last_name</th></tr></thead>\n",
       "<tbody>\n",
       "\t<tr><td>aardd001   </td><td>David      </td><td>Aardsma    </td></tr>\n",
       "\t<tr><td>aaroh101   </td><td>Hank       </td><td>Aaron      </td></tr>\n",
       "\t<tr><td>aarot101   </td><td>Tommie     </td><td>Aaron      </td></tr>\n",
       "\t<tr><td>aased001   </td><td>Don        </td><td>Aase       </td></tr>\n",
       "\t<tr><td>abada001   </td><td>Andy       </td><td>Abad       </td></tr>\n",
       "\t<tr><td>abadf001   </td><td>Fernando   </td><td>Abad       </td></tr>\n",
       "\t<tr><td>abadj101   </td><td>John       </td><td>Abadie     </td></tr>\n",
       "\t<tr><td>abbae101   </td><td>Ed         </td><td>Abbaticchio</td></tr>\n",
       "\t<tr><td>abbeb101   </td><td>Bert       </td><td>Abbey      </td></tr>\n",
       "\t<tr><td>abbec101   </td><td>Charlie    </td><td>Abbey      </td></tr>\n",
       "</tbody>\n",
       "</table>\n"
      ],
      "text/latex": [
       "\\begin{tabular}{r|lll}\n",
       " person\\_id & first\\_name & last\\_name\\\\\n",
       "\\hline\n",
       "\t aardd001    & David       & Aardsma    \\\\\n",
       "\t aaroh101    & Hank        & Aaron      \\\\\n",
       "\t aarot101    & Tommie      & Aaron      \\\\\n",
       "\t aased001    & Don         & Aase       \\\\\n",
       "\t abada001    & Andy        & Abad       \\\\\n",
       "\t abadf001    & Fernando    & Abad       \\\\\n",
       "\t abadj101    & John        & Abadie     \\\\\n",
       "\t abbae101    & Ed          & Abbaticchio\\\\\n",
       "\t abbeb101    & Bert        & Abbey      \\\\\n",
       "\t abbec101    & Charlie     & Abbey      \\\\\n",
       "\\end{tabular}\n"
      ],
      "text/markdown": [
       "\n",
       "| person_id | first_name | last_name |\n",
       "|---|---|---|\n",
       "| aardd001    | David       | Aardsma     |\n",
       "| aaroh101    | Hank        | Aaron       |\n",
       "| aarot101    | Tommie      | Aaron       |\n",
       "| aased001    | Don         | Aase        |\n",
       "| abada001    | Andy        | Abad        |\n",
       "| abadf001    | Fernando    | Abad        |\n",
       "| abadj101    | John        | Abadie      |\n",
       "| abbae101    | Ed          | Abbaticchio |\n",
       "| abbeb101    | Bert        | Abbey       |\n",
       "| abbec101    | Charlie     | Abbey       |\n",
       "\n"
      ],
      "text/plain": [
       "   person_id first_name last_name  \n",
       "1  aardd001  David      Aardsma    \n",
       "2  aaroh101  Hank       Aaron      \n",
       "3  aarot101  Tommie     Aaron      \n",
       "4  aased001  Don        Aase       \n",
       "5  abada001  Andy       Abad       \n",
       "6  abadf001  Fernando   Abad       \n",
       "7  abadj101  John       Abadie     \n",
       "8  abbae101  Ed         Abbaticchio\n",
       "9  abbeb101  Bert       Abbey      \n",
       "10 abbec101  Charlie    Abbey      "
      ]
     },
     "metadata": {},
     "output_type": "display_data"
    },
    {
     "data": {
      "text/html": [
       "<ol class=list-inline>\n",
       "\t<li>20494</li>\n",
       "\t<li>3</li>\n",
       "</ol>\n"
      ],
      "text/latex": [
       "\\begin{enumerate*}\n",
       "\\item 20494\n",
       "\\item 3\n",
       "\\end{enumerate*}\n"
      ],
      "text/markdown": [
       "1. 20494\n",
       "2. 3\n",
       "\n",
       "\n"
      ],
      "text/plain": [
       "[1] 20494     3"
      ]
     },
     "metadata": {},
     "output_type": "display_data"
    }
   ],
   "source": [
    "person_check <- \"\n",
    "SELECT * FROM person;\"\n",
    "\n",
    "person_preview <- dbGetQuery(conn, person_check)\n",
    "\n",
    "head(person_preview, 10)\n",
    "\n",
    "dim(person_preview)"
   ]
  },
  {
   "cell_type": "markdown",
   "metadata": {},
   "source": [
    "The `person` table looks right. Now let's create the `park` table:"
   ]
  },
  {
   "cell_type": "code",
   "execution_count": 13,
   "metadata": {},
   "outputs": [
    {
     "data": {
      "text/html": [
       "0"
      ],
      "text/latex": [
       "0"
      ],
      "text/markdown": [
       "0"
      ],
      "text/plain": [
       "[1] 0"
      ]
     },
     "metadata": {},
     "output_type": "display_data"
    },
    {
     "data": {
      "text/html": [
       "0"
      ],
      "text/latex": [
       "0"
      ],
      "text/markdown": [
       "0"
      ],
      "text/plain": [
       "[1] 0"
      ]
     },
     "metadata": {},
     "output_type": "display_data"
    }
   ],
   "source": [
    "park_create <- \"\n",
    "CREATE TABLE IF NOT EXISTS park (\n",
    "  park_id TEXT PRIMARY KEY,\n",
    "  name TEXT,\n",
    "  nickname TEXT,\n",
    "  city TEXT,\n",
    "  state TEXT,\n",
    "  notes TEXT\n",
    ");\"\n",
    "\n",
    "dbExecute(conn, park_create)\n",
    "\n",
    "park_populate <- \"\n",
    "INSERT OR IGNORE INTO park\n",
    "SELECT\n",
    "  park_id,\n",
    "  name,\n",
    "  aka,\n",
    "  city,\n",
    "  state,\n",
    "  notes\n",
    "FROM park_codes;\n",
    "\"\n",
    "\n",
    "dbExecute(conn, park_populate)"
   ]
  },
  {
   "cell_type": "markdown",
   "metadata": {},
   "source": [
    "Let's also preview the `park` table:"
   ]
  },
  {
   "cell_type": "code",
   "execution_count": 14,
   "metadata": {},
   "outputs": [
    {
     "data": {
      "text/html": [
       "<table>\n",
       "<thead><tr><th scope=col>park_id</th><th scope=col>name</th><th scope=col>nickname</th><th scope=col>city</th><th scope=col>state</th><th scope=col>notes</th></tr></thead>\n",
       "<tbody>\n",
       "\t<tr><td>ALB01                                                                           </td><td><span style=white-space:pre-wrap>Riverside Park               </span>           </td><td><span style=white-space:pre-wrap>NA                                      </span></td><td><span style=white-space:pre-wrap>Albany   </span>                               </td><td>NY                                                                              </td><td>TRN:9/11/80;6/15&amp;9/10/1881;5/16-5/18&amp;5/30/1882                          </td></tr>\n",
       "\t<tr><td>ALT01                                         </td><td>Columbia Park                                 </td><td>NA                                            </td><td>Altoona                                       </td><td>PA                                            </td><td>NA                                            </td></tr>\n",
       "\t<tr><td>ANA01                                         </td><td>Angel Stadium of Anaheim                      </td><td>Edison Field; Anaheim Stadium                 </td><td>Anaheim                                       </td><td>CA                                            </td><td>NA                                            </td></tr>\n",
       "\t<tr><td>ARL01                                         </td><td>Arlington Stadium                             </td><td>NA                                            </td><td>Arlington                                     </td><td>TX                                            </td><td>NA                                            </td></tr>\n",
       "\t<tr><td>ARL02                                         </td><td>Rangers Ballpark in Arlington                 </td><td>The Ballpark in Arlington; Ameriquest Fl      </td><td>Arlington                                     </td><td>TX                                            </td><td>NA                                            </td></tr>\n",
       "\t<tr><td>ATL01                                         </td><td>Atlanta-Fulton County Stadium                 </td><td>NA                                            </td><td>Atlanta                                       </td><td>GA                                            </td><td>NA                                            </td></tr>\n",
       "\t<tr><td>ATL02                                         </td><td>Turner Field                                  </td><td>NA                                            </td><td>Atlanta                                       </td><td>GA                                            </td><td>NA                                            </td></tr>\n",
       "\t<tr><td>ATL03                                         </td><td>Suntrust Park                                 </td><td>NA                                            </td><td>Atlanta                                       </td><td>GA                                            </td><td>NA                                            </td></tr>\n",
       "\t<tr><td>BAL01                                         </td><td>Madison Avenue Grounds                        </td><td>NA                                            </td><td>Baltimore                                     </td><td>MD                                            </td><td>WS3                                           </td></tr>\n",
       "\t<tr><td>BAL02                                         </td><td>Newington Park                                </td><td>NA                                            </td><td>Baltimore                                     </td><td>MD                                            </td><td>BL1:1872-74; BL4:1873; BL2: 1882              </td></tr>\n",
       "</tbody>\n",
       "</table>\n"
      ],
      "text/latex": [
       "\\begin{tabular}{r|llllll}\n",
       " park\\_id & name & nickname & city & state & notes\\\\\n",
       "\\hline\n",
       "\t ALB01                                              & Riverside Park                                     & NA                                                 & Albany                                             & NY                                                 & TRN:9/11/80;6/15\\&9/10/1881;5/16-5/18\\&5/30/1882\\\\\n",
       "\t ALT01                                          & Columbia Park                                  & NA                                             & Altoona                                        & PA                                             & NA                                            \\\\\n",
       "\t ANA01                                          & Angel Stadium of Anaheim                       & Edison Field; Anaheim Stadium                  & Anaheim                                        & CA                                             & NA                                            \\\\\n",
       "\t ARL01                                          & Arlington Stadium                              & NA                                             & Arlington                                      & TX                                             & NA                                            \\\\\n",
       "\t ARL02                                          & Rangers Ballpark in Arlington                  & The Ballpark in Arlington; Ameriquest Fl       & Arlington                                      & TX                                             & NA                                            \\\\\n",
       "\t ATL01                                          & Atlanta-Fulton County Stadium                  & NA                                             & Atlanta                                        & GA                                             & NA                                            \\\\\n",
       "\t ATL02                                          & Turner Field                                   & NA                                             & Atlanta                                        & GA                                             & NA                                            \\\\\n",
       "\t ATL03                                          & Suntrust Park                                  & NA                                             & Atlanta                                        & GA                                             & NA                                            \\\\\n",
       "\t BAL01                                          & Madison Avenue Grounds                         & NA                                             & Baltimore                                      & MD                                             & WS3                                           \\\\\n",
       "\t BAL02                                          & Newington Park                                 & NA                                             & Baltimore                                      & MD                                             & BL1:1872-74; BL4:1873; BL2: 1882              \\\\\n",
       "\\end{tabular}\n"
      ],
      "text/markdown": [
       "\n",
       "| park_id | name | nickname | city | state | notes |\n",
       "|---|---|---|---|---|---|\n",
       "| ALB01                                          | Riverside Park                                 | NA                                             | Albany                                         | NY                                             | TRN:9/11/80;6/15&9/10/1881;5/16-5/18&5/30/1882 |\n",
       "| ALT01                                          | Columbia Park                                  | NA                                             | Altoona                                        | PA                                             | NA                                             |\n",
       "| ANA01                                          | Angel Stadium of Anaheim                       | Edison Field; Anaheim Stadium                  | Anaheim                                        | CA                                             | NA                                             |\n",
       "| ARL01                                          | Arlington Stadium                              | NA                                             | Arlington                                      | TX                                             | NA                                             |\n",
       "| ARL02                                          | Rangers Ballpark in Arlington                  | The Ballpark in Arlington; Ameriquest Fl       | Arlington                                      | TX                                             | NA                                             |\n",
       "| ATL01                                          | Atlanta-Fulton County Stadium                  | NA                                             | Atlanta                                        | GA                                             | NA                                             |\n",
       "| ATL02                                          | Turner Field                                   | NA                                             | Atlanta                                        | GA                                             | NA                                             |\n",
       "| ATL03                                          | Suntrust Park                                  | NA                                             | Atlanta                                        | GA                                             | NA                                             |\n",
       "| BAL01                                          | Madison Avenue Grounds                         | NA                                             | Baltimore                                      | MD                                             | WS3                                            |\n",
       "| BAL02                                          | Newington Park                                 | NA                                             | Baltimore                                      | MD                                             | BL1:1872-74; BL4:1873; BL2: 1882               |\n",
       "\n"
      ],
      "text/plain": [
       "   park_id name                         \n",
       "1  ALB01   Riverside Park               \n",
       "2  ALT01   Columbia Park                \n",
       "3  ANA01   Angel Stadium of Anaheim     \n",
       "4  ARL01   Arlington Stadium            \n",
       "5  ARL02   Rangers Ballpark in Arlington\n",
       "6  ATL01   Atlanta-Fulton County Stadium\n",
       "7  ATL02   Turner Field                 \n",
       "8  ATL03   Suntrust Park                \n",
       "9  BAL01   Madison Avenue Grounds       \n",
       "10 BAL02   Newington Park               \n",
       "   nickname                                 city      state\n",
       "1  NA                                       Albany    NY   \n",
       "2  NA                                       Altoona   PA   \n",
       "3  Edison Field; Anaheim Stadium            Anaheim   CA   \n",
       "4  NA                                       Arlington TX   \n",
       "5  The Ballpark in Arlington; Ameriquest Fl Arlington TX   \n",
       "6  NA                                       Atlanta   GA   \n",
       "7  NA                                       Atlanta   GA   \n",
       "8  NA                                       Atlanta   GA   \n",
       "9  NA                                       Baltimore MD   \n",
       "10 NA                                       Baltimore MD   \n",
       "   notes                                         \n",
       "1  TRN:9/11/80;6/15&9/10/1881;5/16-5/18&5/30/1882\n",
       "2  NA                                            \n",
       "3  NA                                            \n",
       "4  NA                                            \n",
       "5  NA                                            \n",
       "6  NA                                            \n",
       "7  NA                                            \n",
       "8  NA                                            \n",
       "9  WS3                                           \n",
       "10 BL1:1872-74; BL4:1873; BL2: 1882              "
      ]
     },
     "metadata": {},
     "output_type": "display_data"
    }
   ],
   "source": [
    "park_check <- \"SELECT * FROM park\"\n",
    "\n",
    "park_preview <- dbGetQuery(conn, park_check)\n",
    "\n",
    "head(park_preview, 10)"
   ]
  },
  {
   "cell_type": "markdown",
   "metadata": {},
   "source": [
    "Next, we build the league table. This is where its values will have to be manually entered in:"
   ]
  },
  {
   "cell_type": "code",
   "execution_count": 15,
   "metadata": {},
   "outputs": [
    {
     "data": {
      "text/html": [
       "0"
      ],
      "text/latex": [
       "0"
      ],
      "text/markdown": [
       "0"
      ],
      "text/plain": [
       "[1] 0"
      ]
     },
     "metadata": {},
     "output_type": "display_data"
    },
    {
     "data": {
      "text/html": [
       "0"
      ],
      "text/latex": [
       "0"
      ],
      "text/markdown": [
       "0"
      ],
      "text/plain": [
       "[1] 0"
      ]
     },
     "metadata": {},
     "output_type": "display_data"
    }
   ],
   "source": [
    "league_create <- \"\n",
    "CREATE TABLE IF NOT EXISTS league (\n",
    "  league_id TEXT PRIMARY KEY,\n",
    "  name TEXT\n",
    ");\"\n",
    "\n",
    "dbExecute(conn, league_create)\n",
    "\n",
    "league_populate <- '\n",
    "INSERT OR IGNORE INTO league\n",
    "VALUES\n",
    "  (\"NL\", \"National League\"),\n",
    "  (\"AL\", \"American League\"),\n",
    "  (\"AA\", \"American Association\"),\n",
    "  (\"FL\", \"Federal League\"),\n",
    "  (\"PL\", \"Players League\"),\n",
    "  (\"UA\", \"Union Association\")\n",
    ";'\n",
    "\n",
    "dbExecute(conn, league_populate)"
   ]
  },
  {
   "cell_type": "code",
   "execution_count": 16,
   "metadata": {},
   "outputs": [
    {
     "data": {
      "text/html": [
       "<table>\n",
       "<thead><tr><th scope=col>league_id</th><th scope=col>name</th></tr></thead>\n",
       "<tbody>\n",
       "\t<tr><td>NL                  </td><td>National League     </td></tr>\n",
       "\t<tr><td>AL                  </td><td>American League     </td></tr>\n",
       "\t<tr><td>AA                  </td><td>American Association</td></tr>\n",
       "\t<tr><td>FL                  </td><td>Federal League      </td></tr>\n",
       "\t<tr><td>PL                  </td><td>Players League      </td></tr>\n",
       "\t<tr><td>UA                  </td><td>Union Association   </td></tr>\n",
       "</tbody>\n",
       "</table>\n"
      ],
      "text/latex": [
       "\\begin{tabular}{r|ll}\n",
       " league\\_id & name\\\\\n",
       "\\hline\n",
       "\t NL                   & National League     \\\\\n",
       "\t AL                   & American League     \\\\\n",
       "\t AA                   & American Association\\\\\n",
       "\t FL                   & Federal League      \\\\\n",
       "\t PL                   & Players League      \\\\\n",
       "\t UA                   & Union Association   \\\\\n",
       "\\end{tabular}\n"
      ],
      "text/markdown": [
       "\n",
       "| league_id | name |\n",
       "|---|---|\n",
       "| NL                   | National League      |\n",
       "| AL                   | American League      |\n",
       "| AA                   | American Association |\n",
       "| FL                   | Federal League       |\n",
       "| PL                   | Players League       |\n",
       "| UA                   | Union Association    |\n",
       "\n"
      ],
      "text/plain": [
       "  league_id name                \n",
       "1 NL        National League     \n",
       "2 AL        American League     \n",
       "3 AA        American Association\n",
       "4 FL        Federal League      \n",
       "5 PL        Players League      \n",
       "6 UA        Union Association   "
      ]
     },
     "metadata": {},
     "output_type": "display_data"
    }
   ],
   "source": [
    "league_check <- \"SELECT * FROM league\"\n",
    "\n",
    "league_preview <- dbGetQuery(conn, league_check)\n",
    "\n",
    "league_preview"
   ]
  },
  {
   "cell_type": "markdown",
   "metadata": {},
   "source": [
    "Now, the `appearance_type` table will have to be read in.\n",
    "\n",
    "The CSV values will simply be manually entered in:"
   ]
  },
  {
   "cell_type": "code",
   "execution_count": 17,
   "metadata": {},
   "outputs": [
    {
     "ename": "ERROR",
     "evalue": "Error: Table appearance_type exists in database, and both overwrite and append are FALSE\n",
     "output_type": "error",
     "traceback": [
      "Error: Table appearance_type exists in database, and both overwrite and append are FALSE\nTraceback:\n",
      "1. dbWriteTable(conn = conn, name = \"appearance_type\", value = appearance_type, \n .     row.names = FALSE, header = TRUE)",
      "2. dbWriteTable(conn = conn, name = \"appearance_type\", value = appearance_type, \n .     row.names = FALSE, header = TRUE)",
      "3. .local(conn, name, value, ...)",
      "4. stop(\"Table \", name, \" exists in database, and both overwrite and\", \n .     \" append are FALSE\", call. = FALSE)"
     ]
    }
   ],
   "source": [
    "appearance_type <- read_csv('appearance_type_id,name,category\n",
    "O1,Batter 1,offense\n",
    "O2,Batter 2,offense\n",
    "O3,Batter 3,offense\n",
    "O4,Batter 4,offense\n",
    "O5,Batter 5,offense\n",
    "O6,Batter 6,offense\n",
    "O7,Batter 7,offense\n",
    "O8,Batter 8,offense\n",
    "O9,Batter 9,offense\n",
    "D1,Pitcher,defense\n",
    "D2,Catcher,defense\n",
    "D3,1st Base,defense\n",
    "D4,2nd Base,defense\n",
    "D5,3rd Base,defense\n",
    "D6,Shortstop,defense\n",
    "D7,Left Field,defense\n",
    "D8,Center Field,defense\n",
    "D9,Right Field,defense\n",
    "D10,Unknown Position,defense\n",
    "UHP,Home Plate,umpire\n",
    "U1B,First Base,umpire\n",
    "U2B,Second Base,umpire\n",
    "U3B,Third Base,umpire\n",
    "ULF,Left Field,umpire\n",
    "URF,Right Field,umpire\n",
    "MM,Manager,manager\n",
    "AWP,Winning Pitcher,award\n",
    "ALP,Losing Pitcher,award\n",
    "ASP,Saving Pitcher,award\n",
    "AWB,Winning RBI Batter,award\n",
    "PSP,Starting Pitcher,pitcher')\n",
    "\n",
    "dbWriteTable(conn = conn, \n",
    "             name = \"appearance_type\", \n",
    "             value = appearance_type,\n",
    "             row.names = FALSE, \n",
    "             header = TRUE)"
   ]
  },
  {
   "cell_type": "code",
   "execution_count": null,
   "metadata": {},
   "outputs": [],
   "source": [
    "head(dbGetQuery(conn, \"SELECT * from appearance_type\"),10)"
   ]
  },
  {
   "cell_type": "markdown",
   "metadata": {},
   "source": [
    "### Creating the `game` and `team` tables\n",
    "\n",
    "Because these 2 tables need to exist before `person_appearance` and `team_appearance`, the `game` and `team` tables will now be created, with the tables they reference kept in mind. \n",
    "\n",
    "Notice that the `day` column in `game` is being converted from a \"D\" or \"N\" value to a binary Boolean value of \"0\" or \"1\"."
   ]
  },
  {
   "cell_type": "code",
   "execution_count": null,
   "metadata": {},
   "outputs": [],
   "source": [
    "game_create <- \"\n",
    "CREATE TABLE IF NOT EXISTS game (\n",
    "  game_id TEXT PRIMARY KEY,\n",
    "  date TEXT,\n",
    "  number_of_game INTEGER,\n",
    "  park_id TEXT,\n",
    "  length_outs INTEGER,\n",
    "  day BOOLEAN,\n",
    "  completion TEXT,\n",
    "  forefeit TEXT,\n",
    "  protest TEXT,\n",
    "  attendance INTEGER,\n",
    "  legnth_minutes INTEGER,\n",
    "  additional_info TEXT,\n",
    "  acquisition_info TEXT,\n",
    "  FOREIGN KEY (park_id) REFERENCES park(park_id)\n",
    ");\"\n",
    "\n",
    "dbExecute(conn, game_create)\n",
    "\n",
    "game_populate <- '\n",
    "INSERT OR IGNORE INTO game\n",
    "SELECT\n",
    "  game_id,\n",
    "  date,\n",
    "  number_of_game,\n",
    "  park_id,\n",
    "  length_outs,\n",
    "  CASE\n",
    "    WHEN day_night = \"D\" THEN 1\n",
    "    WHEN day_night = \"N\" THEN 0\n",
    "    ELSE NULL\n",
    "    END\n",
    "    AS day,\n",
    "  completion,\n",
    "  forefeit,\n",
    "  protest,\n",
    "  attendance,\n",
    "  length_minutes,\n",
    "  additional_info,\n",
    "  acquisition_info\n",
    "FROM game_log;'\n",
    "\n",
    "dbExecute(conn, game_populate)"
   ]
  },
  {
   "cell_type": "code",
   "execution_count": null,
   "metadata": {},
   "outputs": [],
   "source": [
    "game_check <- \"SELECT * FROM game LIMIT 10;\"\n",
    "\n",
    "game_preview <- dbGetQuery(conn, game_check)\n",
    "\n",
    "game_preview"
   ]
  },
  {
   "cell_type": "markdown",
   "metadata": {},
   "source": [
    "The `game` table turned out well. Let's also create `team`."
   ]
  },
  {
   "cell_type": "code",
   "execution_count": null,
   "metadata": {},
   "outputs": [],
   "source": [
    "team_create <- \"\n",
    "CREATE TABLE IF NOT EXISTS team (\n",
    "  team_id TEXT PRIMARY KEY,\n",
    "  league_id TEXT,\n",
    "  city TEXT,\n",
    "  nickname TEXT,\n",
    "  franch_id TEXT,\n",
    "  FOREIGN KEY (league_id) REFERENCES league(league_id)\n",
    ");\"\n",
    "  \n",
    "dbExecute(conn, team_create)\n",
    "\n",
    "team_populate <- \"\n",
    "INSERT OR IGNORE INTO team\n",
    "SELECT\n",
    "  team_id,\n",
    "  league,\n",
    "  city,\n",
    "  nickname,\n",
    "  franch_id\n",
    "FROM team_codes;\"\n",
    "\n",
    "dbExecute(conn, team_populate)"
   ]
  },
  {
   "cell_type": "code",
   "execution_count": null,
   "metadata": {},
   "outputs": [],
   "source": [
    "team_check <- \"SELECT * FROM team LIMIT 10;\"\n",
    "\n",
    "team_preview <- dbGetQuery(conn, team_check)\n",
    "\n",
    "team_preview"
   ]
  },
  {
   "cell_type": "markdown",
   "metadata": {},
   "source": [
    "With the `game` and `team` tables complete, we'll next focus on creating the `team_appearance` table.\n",
    "\n",
    "### Creating `team_appearance` table\n",
    "\n",
    "Again, for reference, below is the part of the Schema that outlines the `team_appearance` table and the other tables it references:\n",
    "\n",
    "![team_appearance](https://i.gyazo.com/b11e82417def87682caf567eaa61a6d1.png)\n",
    "\n",
    "It should be noted that there is a composite key made up of two primary keys."
   ]
  },
  {
   "cell_type": "code",
   "execution_count": null,
   "metadata": {},
   "outputs": [],
   "source": [
    "team_appearance_create <- \"\n",
    "CREATE TABLE if NOT EXISTS team_appearance (\n",
    "  team_id TEXT,\n",
    "  game_id TEXT,\n",
    "  home BOOLEAN,\n",
    "  league_id TEXT,\n",
    "  score INTEGER,\n",
    "  line_score TEXT,\n",
    "  at_bats INTEGER,\n",
    "  hits INTEGER,\n",
    "  doubles INTEGER,\n",
    "  triples INTEGER,\n",
    "  homeruns INTEGER,\n",
    "  rbi INTEGER,\n",
    "  sacrifice_hits INTEGER,\n",
    "  sacrifice_flies INTEGER,\n",
    "  hit_by_pitch INTEGER,\n",
    "  walks INTEGER,\n",
    "  intentional_walks INTEGER,\n",
    "  strikeouts INTEGER,\n",
    "  stolen_bases INTEGER,\n",
    "  caught_stealing INTEGER,\n",
    "  grounded_into_double INTEGER,\n",
    "  first_catcher_interference INTEGER,\n",
    "  left_on_base INTEGER,\n",
    "  pitchers_used INTEGER,\n",
    "  individual_earned_runs INTEGER,\n",
    "  team_earned_runs INTEGER,\n",
    "  wild_pitches INTEGER,\n",
    "  balks INTEGER,\n",
    "  putouts INTEGER,\n",
    "  assists INTEGER,\n",
    "  errors INTEGER,\n",
    "  passed_balls INTEGER,\n",
    "  double_plays INTEGER,\n",
    "  triple_plays INTEGER,\n",
    "  PRIMARY KEY (team_id, game_id),\n",
    "  FOREIGN KEY (team_id) REFERENCES team(team_id),\n",
    "  FOREIGN KEY (game_id) REFERENCES game(game_id),\n",
    "  FOREIGN KEY (team_id) REFERENCES team(team_id)\n",
    ");\"\n",
    "  \n",
    "dbExecute(conn, team_appearance_create)"
   ]
  },
  {
   "cell_type": "markdown",
   "metadata": {},
   "source": [
    "Populating the `team_appearance` table will be done using a union clause to distinguish between whether the team was the home team or otherwise, a boolean value denote by '1' or '0' in the `home` column of `team_appearance`."
   ]
  },
  {
   "cell_type": "code",
   "execution_count": null,
   "metadata": {},
   "outputs": [],
   "source": [
    "team_appearance_populate <- \"\n",
    "INSERT OR IGNORE INTO team_appearance\n",
    "  SELECT\n",
    "      h_name,\n",
    "      game_id,\n",
    "      1 AS home,\n",
    "      h_league,\n",
    "      h_score,\n",
    "      h_line_score,\n",
    "      h_at_bats,\n",
    "      h_hits,\n",
    "      h_doubles,\n",
    "      h_triples,\n",
    "      h_homeruns,\n",
    "      h_rbi,\n",
    "      h_sacrifice_hits,\n",
    "      h_sacrifice_flies,\n",
    "      h_hit_by_pitch,\n",
    "      h_walks,\n",
    "      h_intentional_walks,\n",
    "      h_strikeouts,\n",
    "      h_stolen_bases,\n",
    "      h_caught_stealing,\n",
    "      h_grounded_into_double,\n",
    "      h_first_catcher_interference,\n",
    "      h_left_on_base,\n",
    "      h_pitchers_used,\n",
    "      h_individual_earned_runs,\n",
    "      h_team_earned_runs,\n",
    "      h_wild_pitches,\n",
    "      h_balks,\n",
    "      h_putouts,\n",
    "      h_assists,\n",
    "      h_errors,\n",
    "      h_passed_balls,\n",
    "      h_double_plays,\n",
    "      h_triple_plays\n",
    "  FROM game_log\n",
    "\n",
    "UNION\n",
    "\n",
    "  SELECT    \n",
    "      v_name,\n",
    "      game_id,\n",
    "      0 AS home,\n",
    "      v_league,\n",
    "      v_score,\n",
    "      v_line_score,\n",
    "      v_at_bats,\n",
    "      v_hits,\n",
    "      v_doubles,\n",
    "      v_triples,\n",
    "      v_homeruns,\n",
    "      v_rbi,\n",
    "      v_sacrifice_hits,\n",
    "      v_sacrifice_flies,\n",
    "      v_hit_by_pitch,\n",
    "      v_walks,\n",
    "      v_intentional_walks,\n",
    "      v_strikeouts,\n",
    "      v_stolen_bases,\n",
    "      v_caught_stealing,\n",
    "      v_grounded_into_double,\n",
    "      v_first_catcher_interference,\n",
    "      v_left_on_base,\n",
    "      v_pitchers_used,\n",
    "      v_individual_earned_runs,\n",
    "      v_team_earned_runs,\n",
    "      v_wild_pitches,\n",
    "      v_balks,\n",
    "      v_putouts,\n",
    "      v_assists,\n",
    "      v_errors,\n",
    "      v_passed_balls,\n",
    "      v_double_plays,\n",
    "      v_triple_plays\n",
    "  from game_log;\"\n",
    "  \n",
    "\n",
    "dbExecute(conn, team_appearance_populate)"
   ]
  },
  {
   "cell_type": "markdown",
   "metadata": {},
   "source": [
    "We'll now preview the `team_appearance` table we just created:"
   ]
  },
  {
   "cell_type": "code",
   "execution_count": null,
   "metadata": {},
   "outputs": [],
   "source": [
    "team_appearance_check <- \"SELECT * FROM team_appearance LIMIT 10\"\n",
    "\n",
    "team_appearance_preview <- dbGetQuery(conn, team_appearance_check)\n",
    "\n",
    "team_appearance_preview"
   ]
  },
  {
   "cell_type": "markdown",
   "metadata": {},
   "source": [
    "### Creating `person_appearance` table\n",
    "\n",
    "With the `team_appearance` table done, the final table we have to create now is the `person_appearance` table. The `person_appearance` table will be used to store information on appearances in games by managers, players, and umpires, as detailed in the `appearance_type` table."
   ]
  },
  {
   "cell_type": "code",
   "execution_count": null,
   "metadata": {},
   "outputs": [],
   "source": [
    "person_appearance_create <- \"\n",
    "CREATE TABLE person_appearance (\n",
    "  appearance_id INTEGER PRIMARY KEY,\n",
    "  person_id TEXT,\n",
    "  team_id TEXT,\n",
    "  game_id TEXT,\n",
    "  appearance_type_id,\n",
    "  FOREIGN KEY (person_id) REFERENCES person(person_id),\n",
    "  FOREIGN KEY (team_id) REFERENCES team(team_id),\n",
    "  FOREIGN KEY (game_id) REFERENCES game(game_id),\n",
    "  FOREIGN KEY (appearance_type_id) REFERENCES appearance_type(appearance_type_id)\n",
    ");\"\n",
    "  \n",
    "dbExecute(conn, person_appearance_create)"
   ]
  },
  {
   "cell_type": "markdown",
   "metadata": {},
   "source": [
    "A similar technique that we used to insert data into the `team_appearance` table. The key difference here though is that we will need to write much larger queries - one for each column, where before we were writing only one for each team. \n",
    "\n",
    "We will need to determine for each column what the `appearance_type_id` will be by cross-referencing the columns with the `appearance_type` table."
   ]
  },
  {
   "cell_type": "code",
   "execution_count": null,
   "metadata": {},
   "outputs": [],
   "source": [
    "person_appearance_populate <- '\n",
    "INSERT OR IGNORE INTO person_appearance  (\n",
    "  game_id,\n",
    "  team_id,\n",
    "  person_id,\n",
    "  appearance_type_id\n",
    ") \n",
    "SELECT\n",
    "  game_id,\n",
    "  NULL,\n",
    "  hp_umpire_id,\n",
    "  \"UHP\"\n",
    "FROM game_log\n",
    "WHERE hp_umpire_id IS NOT NULL    \n",
    "\n",
    "UNION\n",
    "\n",
    "SELECT\n",
    "  game_id,\n",
    "  NULL,\n",
    "  [1b_umpire_id],\n",
    "  \"U1B\"\n",
    "FROM game_log\n",
    "WHERE \"1b_umpire_id\" IS NOT NULL\n",
    "\n",
    "UNION\n",
    "\n",
    "SELECT\n",
    "  game_id,\n",
    "  NULL,\n",
    "  [2b_umpire_id],\n",
    "  \"U2B\"\n",
    "FROM game_log\n",
    "WHERE [2b_umpire_id] IS NOT NULL\n",
    "\n",
    "UNION\n",
    "\n",
    "SELECT\n",
    "  game_id,\n",
    "  NULL,\n",
    "  [3b_umpire_id],\n",
    "  \"U3B\"\n",
    "FROM game_log\n",
    "WHERE [3b_umpire_id] IS NOT NULL\n",
    "\n",
    "UNION\n",
    "\n",
    "SELECT\n",
    "  game_id,\n",
    "  NULL,\n",
    "  lf_umpire_id,\n",
    "  \"ULF\"\n",
    "FROM game_log\n",
    "WHERE lf_umpire_id IS NOT NULL\n",
    "\n",
    "UNION\n",
    "\n",
    "SELECT\n",
    "  game_id,\n",
    "  NULL,\n",
    "  rf_umpire_id,\n",
    "  \"URF\"\n",
    "FROM game_log\n",
    "WHERE rf_umpire_id IS NOT NULL\n",
    "\n",
    "UNION\n",
    "\n",
    "SELECT\n",
    "  game_id,\n",
    "  v_name,\n",
    "  v_manager_id,\n",
    "  \"MM\"\n",
    "FROM game_log\n",
    "WHERE v_manager_id IS NOT NULL\n",
    "\n",
    "UNION\n",
    "\n",
    "SELECT\n",
    "  game_id,\n",
    "  h_name,\n",
    "  h_manager_id,\n",
    "  \"MM\"\n",
    "FROM game_log\n",
    "WHERE h_manager_id IS NOT NULL\n",
    "\n",
    "UNION\n",
    "\n",
    "SELECT\n",
    "  game_id,\n",
    "  CASE\n",
    "      WHEN h_score > v_score THEN h_name\n",
    "      ELSE v_name\n",
    "      END,\n",
    "  winning_pitcher_id,\n",
    "  \"AWP\"\n",
    "FROM game_log\n",
    "WHERE winning_pitcher_id IS NOT NULL\n",
    "\n",
    "UNION\n",
    "\n",
    "SELECT\n",
    "  game_id,\n",
    "  CASE\n",
    "      WHEN h_score < v_score THEN h_name\n",
    "      ELSE v_name\n",
    "      END,\n",
    "  losing_pitcher_id,\n",
    "  \"ALP\"\n",
    "FROM game_log\n",
    "WHERE losing_pitcher_id IS NOT NULL\n",
    "\n",
    "UNION\n",
    "\n",
    "SELECT\n",
    "  game_id,\n",
    "  CASE\n",
    "      WHEN h_score > v_score THEN h_name\n",
    "      ELSE v_name\n",
    "      END,\n",
    "  saving_pitcher_id,\n",
    "  \"ASP\"\n",
    "FROM game_log\n",
    "WHERE saving_pitcher_id IS NOT NULL\n",
    "\n",
    "UNION\n",
    "\n",
    "SELECT\n",
    "  game_id,\n",
    "  CASE\n",
    "      WHEN h_score > v_score THEN h_name\n",
    "      ELSE v_name\n",
    "      END,\n",
    "  winning_rbi_batter_id,\n",
    "  \"AWB\"\n",
    "FROM game_log\n",
    "WHERE winning_rbi_batter_id IS NOT NULL\n",
    "\n",
    "UNION\n",
    "\n",
    "SELECT\n",
    "  game_id,\n",
    "  v_name,\n",
    "  v_starting_pitcher_id,\n",
    "  \"PSP\"\n",
    "FROM game_log\n",
    "WHERE v_starting_pitcher_id IS NOT NULL\n",
    "\n",
    "UNION\n",
    "\n",
    "SELECT\n",
    "  game_id,\n",
    "  h_name,\n",
    "  h_starting_pitcher_id,\n",
    "  \"PSP\"\n",
    "FROM game_log\n",
    "WHERE h_starting_pitcher_id IS NOT NULL;'\n",
    "  \n",
    "dbExecute(conn, person_appearance_populate)"
   ]
  },
  {
   "cell_type": "markdown",
   "metadata": {},
   "source": [
    "For handling the offensive and defensive positions for both teams, a nested for loop will be used to speed up the process."
   ]
  },
  {
   "cell_type": "code",
   "execution_count": null,
   "metadata": {},
   "outputs": [],
   "source": [
    "for (letter in c(\"h\", \"v\")) {\n",
    "  for (num in 1:9) {\n",
    "    template <- '\n",
    "      INSERT INTO person_appearance (\n",
    "          game_id,\n",
    "          team_id,\n",
    "          person_id,\n",
    "          appearance_type_id\n",
    "      ) \n",
    "          SELECT\n",
    "              game_id,\n",
    "              %s_name,\n",
    "              %s_player_%f_id,\n",
    "              \"O%f\"\n",
    "          FROM game_log\n",
    "          WHERE %s_player_%f_id IS NOT NULL\n",
    "      \n",
    "      UNION\n",
    "      \n",
    "          SELECT\n",
    "              game_id,\n",
    "              %s_name,\n",
    "              %s_player_%f_id,\n",
    "              \"D\" || CAST(%s_player_%f_def_pos AS INT)\n",
    "          FROM game_log\n",
    "          WHERE %s_player_%f_id IS NOT NULL;\n",
    "    '\n",
    "    # replace all of the %s and %f with the correct letter number\n",
    "    template <- gsub(\"%s\", letter, template, fixed = TRUE)\n",
    "    template <- gsub(\"%f\", num, template, fixed = TRUE)\n",
    "    \n",
    "    dbExecute(conn, template)\n",
    "  }\n",
    "}"
   ]
  },
  {
   "cell_type": "markdown",
   "metadata": {},
   "source": [
    "With the normalized tables now all created, and our data inserted, we will now remove the original tables we created when we initially imported the CSV files."
   ]
  },
  {
   "cell_type": "code",
   "execution_count": null,
   "metadata": {},
   "outputs": [],
   "source": [
    "dbListTables(conn)\n",
    "\n",
    "tables_to_drop <- c(\"game_log\", \"park_codes\",\n",
    "            \"team_codes\", \"person_codes\")\n",
    "            \n",
    "for (each in tables_to_drop) {\n",
    "  drop_table = sprintf(\"DROP TABLE %s\", each)\n",
    "  dbExecute(conn, drop_table)\n",
    "}\n",
    "\n",
    "\n",
    "dbListTables(conn)"
   ]
  },
  {
   "cell_type": "markdown",
   "metadata": {},
   "source": [
    "## Ending the project\n",
    "\n",
    "With the database creation task now successfully completed, we'll end here and disconnect from the database."
   ]
  },
  {
   "cell_type": "code",
   "execution_count": null,
   "metadata": {},
   "outputs": [],
   "source": [
    "dbDisconnect(conn)"
   ]
  }
 ],
 "metadata": {
  "kernelspec": {
   "display_name": "R",
   "language": "R",
   "name": "ir"
  },
  "language_info": {
   "codemirror_mode": "r",
   "file_extension": ".r",
   "mimetype": "text/x-r-source",
   "name": "R",
   "pygments_lexer": "r",
   "version": "3.6.0"
  }
 },
 "nbformat": 4,
 "nbformat_minor": 2
}
